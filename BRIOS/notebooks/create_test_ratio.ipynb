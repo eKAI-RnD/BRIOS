{
 "cells": [
  {
   "cell_type": "code",
   "execution_count": 589,
   "metadata": {},
   "outputs": [],
   "source": [
    "import os\n",
    "import rasterio\n",
    "import numpy as np\n",
    "from datetime import datetime, timedelta\n",
    "\n",
    "# # Folder path containing .tif files\n",
    "# folder_path = \"/mnt/data1tb/BRIOS/data2/ndvi_8days\"\n",
    "\n",
    "# # Dates with no data\n",
    "# missing_dates = ['2023-01-05', '2023-02-06', '2023-02-14', '2023-03-26',\n",
    "#                  '2023-04-03', '2023-04-11', '2023-04-19', '2023-04-27']\n",
    "# missing_dates = set(missing_dates)  # Convert to set for quick lookups\n",
    "\n",
    "# # List of all available dates\n",
    "# available_files = [f for f in os.listdir(folder_path) if f.endswith('.tif')]\n",
    "# available_dates = sorted(\n",
    "#     datetime.strptime(f.split('_')[1].split('.')[0], \"%Y-%m-%d\") for f in available_files\n",
    "# )\n",
    "\n",
    "# # Check raster dimensions from a sample file\n",
    "# with rasterio.open(os.path.join(folder_path, available_files[0])) as src:\n",
    "#     height, width = src.shape\n",
    "\n",
    "# # Initialize list to hold time series data\n",
    "# time_series = []\n",
    "\n",
    "# # Generate the complete list of dates, assuming an 8-day interval\n",
    "# start_date = available_dates[0]\n",
    "# end_date = available_dates[-1]\n",
    "# current_date = start_date\n",
    "\n",
    "# while current_date <= end_date:\n",
    "#     date_str = current_date.strftime(\"%Y-%m-%d\")\n",
    "#     file_path = os.path.join(folder_path, f\"ndvi8days_{date_str}.tif\")\n",
    "    \n",
    "#     if date_str in missing_dates or not os.path.exists(file_path):\n",
    "#         # Append a null array for missing dates\n",
    "#         null_array = np.full((height, width), np.nan)\n",
    "#         time_series.append(null_array)\n",
    "#     else:\n",
    "#         # Read and store data for available dates\n",
    "#         with rasterio.open(file_path) as src:\n",
    "#             time_series.append(src.read(1))  # Reads the first band\n",
    "\n",
    "#     # Increment by 8 days\n",
    "#     current_date += timedelta(days=8)\n",
    "\n",
    "# # Stack along the time dimension, then transpose to (x, y, time)\n",
    "# ndvi_data = np.stack(time_series, axis=0).transpose(1, 2, 0)\n",
    "\n",
    "# # Save as .npy file\n",
    "output_path = \"/mnt/data1tb/BRIOS/data2/ndvi_timeseries.npy\"\n",
    "# np.save(output_path, ndvi_data)\n",
    "\n",
    "# print(f\"Data saved to {output_path}\")\n"
   ]
  },
  {
   "cell_type": "code",
   "execution_count": 590,
   "metadata": {},
   "outputs": [
    {
     "data": {
      "text/plain": [
       "(342, 470, 46)"
      ]
     },
     "execution_count": 590,
     "metadata": {},
     "output_type": "execute_result"
    }
   ],
   "source": [
    "ndvi = np.load(output_path)\n",
    "\n",
    "ndvi.shape"
   ]
  },
  {
   "cell_type": "code",
   "execution_count": 591,
   "metadata": {},
   "outputs": [],
   "source": [
    "# # Folder path containing RVI .tif files\n",
    "# folder_path = \"/mnt/data1tb/BRIOS/hiephoa_kinhmon/rvi_8days_test\"\n",
    "\n",
    "# # List all available .tif files in the folder\n",
    "# available_files = sorted([f for f in os.listdir(folder_path) if f.endswith('.tif')])\n",
    "\n",
    "# # Check raster dimensions from a sample file\n",
    "# with rasterio.open(os.path.join(folder_path, available_files[0])) as src:\n",
    "#     height, width = src.shape\n",
    "\n",
    "# # Initialize lists to hold RVI and VH time series data\n",
    "# rvi_time_series = []\n",
    "# vh_time_series = []\n",
    "\n",
    "# # Read and store RVI and VH data from each file\n",
    "# for file_name in available_files:\n",
    "#     file_path = os.path.join(folder_path, file_name)\n",
    "#     with rasterio.open(file_path) as src:\n",
    "#         # Append the first band for RVI data\n",
    "#         rvi_time_series.append(src.read(1))  # RVI is in band 1\n",
    "#         # Append the second band for VH data\n",
    "#         vh_time_series.append(src.read(2))  # VH is in band 2\n",
    "\n",
    "# # Stack along the time dimension and transpose to (x, y, time)\n",
    "# rvi_data = np.stack(rvi_time_series, axis=0).transpose(1, 2, 0)\n",
    "# vh_data = np.stack(vh_time_series, axis=0).transpose(1, 2, 0)\n",
    "\n",
    "# print(f\"rvi: {rvi_data.shape}\")\n",
    "# print(f\"vh: {vh_data.shape}\")\n",
    "\n",
    "# # Save each time series as .npy file\n",
    "# output_rvi_path = \"/mnt/data1tb/BRIOS/hiephoa_kinhmon/rvi_timeseries.npy\"\n",
    "# output_vh_path = \"/mnt/data1tb/BRIOS/hiephoa_kinhmon/vh_timeseries.npy\"\n",
    "# np.save(output_rvi_path, rvi_data)\n",
    "# np.save(output_vh_path, vh_data)\n",
    "\n",
    "# print(f\"RVI data saved to {output_rvi_path}\")\n",
    "# print(f\"VH data saved to {output_vh_path}\")\n"
   ]
  },
  {
   "cell_type": "code",
   "execution_count": 592,
   "metadata": {},
   "outputs": [],
   "source": [
    "rvi_data = np.load('/mnt/data1tb/BRIOS/dataTrain/rvi_full.npy')\n",
    "vh_data = np.load('/mnt/data1tb/BRIOS/dataTrain/vh_full.npy')"
   ]
  },
  {
   "cell_type": "markdown",
   "metadata": {},
   "source": [
    "luu x y"
   ]
  },
  {
   "cell_type": "code",
   "execution_count": 593,
   "metadata": {},
   "outputs": [
    {
     "data": {
      "text/plain": [
       "(342, 470, 46)"
      ]
     },
     "execution_count": 593,
     "metadata": {},
     "output_type": "execute_result"
    }
   ],
   "source": [
    "ndvi_data = ndvi\n",
    "ndvi_data.shape"
   ]
  },
  {
   "cell_type": "code",
   "execution_count": 594,
   "metadata": {},
   "outputs": [],
   "source": [
    "x, y, t = ndvi_data.shape"
   ]
  },
  {
   "cell_type": "code",
   "execution_count": 595,
   "metadata": {},
   "outputs": [],
   "source": [
    "# coordinates_first = np.array([(i, j) for i in range(x) for j in range(y)])"
   ]
  },
  {
   "cell_type": "code",
   "execution_count": 596,
   "metadata": {},
   "outputs": [],
   "source": [
    "# coordinates_first[1]"
   ]
  },
  {
   "cell_type": "code",
   "execution_count": 597,
   "metadata": {},
   "outputs": [],
   "source": [
    "ndvi_data = ndvi_data.reshape((ndvi_data.shape[0] * ndvi_data.shape[1], ndvi_data.shape[2]))\n",
    "rvi_data = rvi_data.reshape((rvi_data.shape[0] * rvi_data.shape[1], rvi_data.shape[2]))\n",
    "vh_data = vh_data.reshape((vh_data.shape[0] * vh_data.shape[1], vh_data.shape[2]))"
   ]
  },
  {
   "cell_type": "code",
   "execution_count": 598,
   "metadata": {},
   "outputs": [],
   "source": [
    "time_series_less_null = np.load('/mnt/data1tb/BRIOS/data2/anphu_less_null.npy')\n",
    "ndvi_data = ndvi_data[time_series_less_null]\n",
    "rvi_data = rvi_data[time_series_less_null]\n",
    "vh_data = vh_data[time_series_less_null]"
   ]
  },
  {
   "cell_type": "code",
   "execution_count": 599,
   "metadata": {},
   "outputs": [
    {
     "data": {
      "text/plain": [
       "(1384, 46)"
      ]
     },
     "execution_count": 599,
     "metadata": {},
     "output_type": "execute_result"
    }
   ],
   "source": [
    "ndvi_data.shape"
   ]
  },
  {
   "cell_type": "code",
   "execution_count": 600,
   "metadata": {},
   "outputs": [
    {
     "data": {
      "text/plain": [
       "array([[       nan,        nan, 0.4392558 , ..., 0.42815393, 0.27344027,\n",
       "        0.27344027],\n",
       "       [       nan,        nan, 0.53755772, ..., 0.62836951, 0.59185058,\n",
       "        0.59185058],\n",
       "       [       nan,        nan, 0.54158568, ..., 0.71329784, 0.71155685,\n",
       "        0.71155685],\n",
       "       ...,\n",
       "       [0.69387758, 0.69387758, 0.71141648, ..., 0.79825151, 0.66508889,\n",
       "        0.62909091],\n",
       "       [0.68592262, 0.68592262, 0.70181435, ..., 0.78972769, 0.65482491,\n",
       "        0.65482491],\n",
       "       [0.67317343, 0.67317343, 0.70294964, ..., 0.79163814, 0.64478475,\n",
       "        0.64478475]])"
      ]
     },
     "execution_count": 600,
     "metadata": {},
     "output_type": "execute_result"
    }
   ],
   "source": [
    "ndvi_data"
   ]
  },
  {
   "cell_type": "code",
   "execution_count": 601,
   "metadata": {},
   "outputs": [
    {
     "data": {
      "text/plain": [
       "(1384, 46)"
      ]
     },
     "execution_count": 601,
     "metadata": {},
     "output_type": "execute_result"
    }
   ],
   "source": [
    "rvi_data.shape"
   ]
  },
  {
   "cell_type": "code",
   "execution_count": 602,
   "metadata": {},
   "outputs": [
    {
     "data": {
      "text/plain": [
       "(1384, 46)"
      ]
     },
     "execution_count": 602,
     "metadata": {},
     "output_type": "execute_result"
    }
   ],
   "source": [
    "vh_data.shape"
   ]
  },
  {
   "cell_type": "markdown",
   "metadata": {},
   "source": [
    "# Make cloudMask\n",
    "- `ndvi_data[i]` == `np.nan` => have cloud\n",
    "- `cloudMask[i] = 0`: no cloud \n",
    "- `cloudMask[i]` = 1: cloud"
   ]
  },
  {
   "cell_type": "code",
   "execution_count": 603,
   "metadata": {},
   "outputs": [],
   "source": [
    "cloudMask = np.zeros(ndvi_data.shape)"
   ]
  },
  {
   "cell_type": "code",
   "execution_count": 604,
   "metadata": {},
   "outputs": [
    {
     "data": {
      "text/plain": [
       "(1384, 46)"
      ]
     },
     "execution_count": 604,
     "metadata": {},
     "output_type": "execute_result"
    }
   ],
   "source": [
    "cloudMask.shape"
   ]
  },
  {
   "cell_type": "code",
   "execution_count": 605,
   "metadata": {},
   "outputs": [],
   "source": [
    "for series_index in range(ndvi_data.shape[0]):\n",
    "    for time_step in range(ndvi_data.shape[1]):\n",
    "        if np.isnan(ndvi_data[series_index, time_step]):\n",
    "            cloudMask[series_index, time_step] = 1"
   ]
  },
  {
   "cell_type": "code",
   "execution_count": 606,
   "metadata": {},
   "outputs": [
    {
     "name": "stdout",
     "output_type": "stream",
     "text": [
      "so gia tri = 1 trong cloudmask = 18705\n",
      "so gia tri = 0 trong cloudmask = 44959\n"
     ]
    }
   ],
   "source": [
    "print(f'so gia tri = 1 trong cloudmask = {np.sum(cloudMask==1)}')\n",
    "print(f'so gia tri = 0 trong cloudmask = {np.sum(cloudMask==0)}')"
   ]
  },
  {
   "cell_type": "markdown",
   "metadata": {},
   "source": [
    "random 25, 50, 75% fake cloud"
   ]
  },
  {
   "cell_type": "code",
   "execution_count": 607,
   "metadata": {},
   "outputs": [],
   "source": [
    "def fake_cloud_ratio(cloud_mask, ratio):\n",
    "    # Tạo một mảng boolean cùng kích thước với cloud_mask để lưu vị trí thay đổi\n",
    "    changed_positions = np.zeros_like(cloud_mask, dtype=bool)\n",
    "    \n",
    "    # Lặp qua từng mẫu (theo hàng i)\n",
    "    for i in range(cloud_mask.shape[0]):\n",
    "        # Lấy các chỉ số của các vị trí có giá trị 0 tại hàng i\n",
    "        zero_indices = np.where(cloud_mask[i, :] == 0)[0]\n",
    "        \n",
    "        # Tính số lượng phần tử cần chuyển từ 0 thành 1 theo tỷ lệ ratio\n",
    "        num_to_flip = int(len(zero_indices) * ratio)\n",
    "        print(num_to_flip)\n",
    "        \n",
    "        # Chọn ngẫu nhiên các chỉ số trong số các chỉ số có giá trị 0\n",
    "        if num_to_flip > 0:\n",
    "            flip_indices = np.random.choice(zero_indices, size=num_to_flip, replace=False)\n",
    "            \n",
    "            # Đổi các giá trị tại các vị trí được chọn thành 1 trong cloud_mask\n",
    "            cloud_mask[i, flip_indices] = 1\n",
    "            \n",
    "            # Đánh dấu các vị trí đã thay đổi trong mảng changed_positions\n",
    "            changed_positions[i, flip_indices] = True\n",
    "\n",
    "    return cloud_mask, changed_positions\n"
   ]
  },
  {
   "cell_type": "code",
   "execution_count": 608,
   "metadata": {},
   "outputs": [
    {
     "name": "stdout",
     "output_type": "stream",
     "text": [
      "24\n",
      "24\n",
      "24\n",
      "24\n",
      "24\n",
      "24\n",
      "24\n",
      "24\n",
      "25\n",
      "25\n",
      "25\n",
      "25\n",
      "25\n",
      "24\n",
      "24\n",
      "24\n",
      "24\n",
      "24\n",
      "24\n",
      "24\n",
      "24\n",
      "25\n",
      "25\n",
      "25\n",
      "25\n",
      "24\n",
      "24\n",
      "24\n",
      "24\n",
      "24\n",
      "24\n",
      "25\n",
      "25\n",
      "25\n",
      "25\n",
      "25\n",
      "25\n",
      "24\n",
      "24\n",
      "24\n",
      "24\n",
      "24\n",
      "24\n",
      "24\n",
      "25\n",
      "24\n",
      "24\n",
      "24\n",
      "24\n",
      "24\n",
      "24\n",
      "24\n",
      "24\n",
      "24\n",
      "24\n",
      "24\n",
      "24\n",
      "24\n",
      "24\n",
      "24\n",
      "24\n",
      "24\n",
      "24\n",
      "24\n",
      "24\n",
      "24\n",
      "24\n",
      "24\n",
      "24\n",
      "24\n",
      "24\n",
      "24\n",
      "24\n",
      "24\n",
      "24\n",
      "24\n",
      "24\n",
      "24\n",
      "24\n",
      "24\n",
      "24\n",
      "24\n",
      "24\n",
      "24\n",
      "24\n",
      "24\n",
      "24\n",
      "24\n",
      "24\n",
      "24\n",
      "24\n",
      "24\n",
      "24\n",
      "24\n",
      "24\n",
      "24\n",
      "24\n",
      "24\n",
      "24\n",
      "24\n",
      "24\n",
      "24\n",
      "24\n",
      "24\n",
      "24\n",
      "24\n",
      "24\n",
      "24\n",
      "24\n",
      "24\n",
      "24\n",
      "24\n",
      "24\n",
      "24\n",
      "24\n",
      "24\n",
      "24\n",
      "24\n",
      "24\n",
      "24\n",
      "24\n",
      "24\n",
      "24\n",
      "24\n",
      "24\n",
      "24\n",
      "24\n",
      "24\n",
      "24\n",
      "24\n",
      "24\n",
      "24\n",
      "24\n",
      "24\n",
      "24\n",
      "24\n",
      "24\n",
      "24\n",
      "24\n",
      "24\n",
      "24\n",
      "24\n",
      "24\n",
      "24\n",
      "24\n",
      "24\n",
      "24\n",
      "24\n",
      "24\n",
      "24\n",
      "24\n",
      "24\n",
      "24\n",
      "24\n",
      "24\n",
      "24\n",
      "24\n",
      "24\n",
      "24\n",
      "24\n",
      "24\n",
      "24\n",
      "24\n",
      "24\n",
      "24\n",
      "24\n",
      "24\n",
      "24\n",
      "24\n",
      "24\n",
      "24\n",
      "24\n",
      "24\n",
      "24\n",
      "24\n",
      "24\n",
      "24\n",
      "24\n",
      "24\n",
      "24\n",
      "24\n",
      "24\n",
      "24\n",
      "24\n",
      "24\n",
      "24\n",
      "24\n",
      "24\n",
      "24\n",
      "24\n",
      "24\n",
      "24\n",
      "24\n",
      "24\n",
      "24\n",
      "24\n",
      "24\n",
      "24\n",
      "24\n",
      "24\n",
      "24\n",
      "24\n",
      "24\n",
      "24\n",
      "24\n",
      "24\n",
      "24\n",
      "24\n",
      "24\n",
      "24\n",
      "24\n",
      "24\n",
      "24\n",
      "24\n",
      "24\n",
      "24\n",
      "24\n",
      "24\n",
      "24\n",
      "24\n",
      "24\n",
      "24\n",
      "24\n",
      "24\n",
      "24\n",
      "24\n",
      "24\n",
      "24\n",
      "24\n",
      "24\n",
      "24\n",
      "24\n",
      "24\n",
      "24\n",
      "24\n",
      "24\n",
      "24\n",
      "24\n",
      "24\n",
      "24\n",
      "24\n",
      "24\n",
      "24\n",
      "24\n",
      "24\n",
      "24\n",
      "24\n",
      "24\n",
      "24\n",
      "24\n",
      "24\n",
      "24\n",
      "24\n",
      "24\n",
      "24\n",
      "24\n",
      "24\n",
      "24\n",
      "24\n",
      "24\n",
      "24\n",
      "24\n",
      "24\n",
      "24\n",
      "24\n",
      "24\n",
      "24\n",
      "24\n",
      "24\n",
      "24\n",
      "24\n",
      "24\n",
      "24\n",
      "24\n",
      "24\n",
      "24\n",
      "24\n",
      "24\n",
      "24\n",
      "24\n",
      "24\n",
      "24\n",
      "24\n",
      "24\n",
      "24\n",
      "24\n",
      "24\n",
      "24\n",
      "24\n",
      "24\n",
      "24\n",
      "24\n",
      "24\n",
      "24\n",
      "24\n",
      "24\n",
      "24\n",
      "24\n",
      "24\n",
      "24\n",
      "24\n",
      "24\n",
      "24\n",
      "24\n",
      "24\n",
      "24\n",
      "24\n",
      "24\n",
      "24\n",
      "24\n",
      "24\n",
      "24\n",
      "24\n",
      "24\n",
      "24\n",
      "24\n",
      "24\n",
      "24\n",
      "24\n",
      "24\n",
      "24\n",
      "24\n",
      "24\n",
      "24\n",
      "24\n",
      "24\n",
      "24\n",
      "24\n",
      "24\n",
      "24\n",
      "24\n",
      "24\n",
      "24\n",
      "24\n",
      "24\n",
      "24\n",
      "24\n",
      "24\n",
      "24\n",
      "24\n",
      "24\n",
      "24\n",
      "24\n",
      "24\n",
      "24\n",
      "24\n",
      "24\n",
      "24\n",
      "24\n",
      "24\n",
      "24\n",
      "24\n",
      "24\n",
      "24\n",
      "24\n",
      "24\n",
      "24\n",
      "24\n",
      "24\n",
      "24\n",
      "24\n",
      "24\n",
      "24\n",
      "24\n",
      "24\n",
      "24\n",
      "24\n",
      "24\n",
      "24\n",
      "24\n",
      "24\n",
      "24\n",
      "24\n",
      "24\n",
      "24\n",
      "24\n",
      "24\n",
      "24\n",
      "24\n",
      "24\n",
      "24\n",
      "24\n",
      "24\n",
      "24\n",
      "24\n",
      "24\n",
      "24\n",
      "24\n",
      "24\n",
      "24\n",
      "24\n",
      "24\n",
      "24\n",
      "24\n",
      "24\n",
      "24\n",
      "24\n",
      "24\n",
      "24\n",
      "24\n",
      "24\n",
      "24\n",
      "24\n",
      "24\n",
      "24\n",
      "24\n",
      "24\n",
      "24\n",
      "24\n",
      "24\n",
      "24\n",
      "24\n",
      "24\n",
      "24\n",
      "24\n",
      "24\n",
      "24\n",
      "24\n",
      "24\n",
      "24\n",
      "24\n",
      "24\n",
      "24\n",
      "24\n",
      "24\n",
      "24\n",
      "24\n",
      "24\n",
      "24\n",
      "24\n",
      "24\n",
      "24\n",
      "24\n",
      "24\n",
      "24\n",
      "24\n",
      "24\n",
      "24\n",
      "24\n",
      "24\n",
      "24\n",
      "24\n",
      "24\n",
      "24\n",
      "24\n",
      "24\n",
      "24\n",
      "24\n",
      "24\n",
      "24\n",
      "24\n",
      "24\n",
      "24\n",
      "24\n",
      "24\n",
      "24\n",
      "24\n",
      "24\n",
      "24\n",
      "24\n",
      "24\n",
      "24\n",
      "24\n",
      "24\n",
      "24\n",
      "24\n",
      "24\n",
      "24\n",
      "24\n",
      "24\n",
      "24\n",
      "24\n",
      "24\n",
      "24\n",
      "24\n",
      "24\n",
      "24\n",
      "24\n",
      "24\n",
      "24\n",
      "24\n",
      "24\n",
      "24\n",
      "24\n",
      "24\n",
      "24\n",
      "24\n",
      "24\n",
      "24\n",
      "24\n",
      "24\n",
      "24\n",
      "24\n",
      "24\n",
      "24\n",
      "24\n",
      "24\n",
      "24\n",
      "24\n",
      "24\n",
      "24\n",
      "24\n",
      "24\n",
      "24\n",
      "24\n",
      "24\n",
      "24\n",
      "24\n",
      "24\n",
      "24\n",
      "24\n",
      "24\n",
      "24\n",
      "24\n",
      "24\n",
      "24\n",
      "24\n",
      "24\n",
      "24\n",
      "24\n",
      "24\n",
      "24\n",
      "24\n",
      "24\n",
      "24\n",
      "24\n",
      "24\n",
      "24\n",
      "24\n",
      "24\n",
      "24\n",
      "24\n",
      "24\n",
      "24\n",
      "24\n",
      "24\n",
      "24\n",
      "24\n",
      "24\n",
      "24\n",
      "24\n",
      "24\n",
      "24\n",
      "24\n",
      "24\n",
      "24\n",
      "24\n",
      "24\n",
      "24\n",
      "24\n",
      "24\n",
      "24\n",
      "24\n",
      "24\n",
      "24\n",
      "24\n",
      "24\n",
      "24\n",
      "24\n",
      "24\n",
      "24\n",
      "24\n",
      "24\n",
      "24\n",
      "24\n",
      "24\n",
      "24\n",
      "24\n",
      "24\n",
      "24\n",
      "25\n",
      "25\n",
      "24\n",
      "24\n",
      "24\n",
      "24\n",
      "24\n",
      "24\n",
      "24\n",
      "24\n",
      "24\n",
      "24\n",
      "24\n",
      "24\n",
      "24\n",
      "24\n",
      "24\n",
      "24\n",
      "24\n",
      "24\n",
      "24\n",
      "24\n",
      "24\n",
      "24\n",
      "24\n",
      "24\n",
      "24\n",
      "24\n",
      "24\n",
      "24\n",
      "24\n",
      "24\n",
      "24\n",
      "24\n",
      "24\n",
      "24\n",
      "24\n",
      "24\n",
      "24\n",
      "24\n",
      "24\n",
      "24\n",
      "24\n",
      "24\n",
      "24\n",
      "24\n",
      "24\n",
      "24\n",
      "24\n",
      "24\n",
      "24\n",
      "24\n",
      "24\n",
      "24\n",
      "24\n",
      "24\n",
      "24\n",
      "24\n",
      "24\n",
      "24\n",
      "24\n",
      "25\n",
      "25\n",
      "25\n",
      "25\n",
      "25\n",
      "24\n",
      "24\n",
      "24\n",
      "24\n",
      "24\n",
      "24\n",
      "24\n",
      "24\n",
      "24\n",
      "24\n",
      "24\n",
      "24\n",
      "24\n",
      "24\n",
      "24\n",
      "24\n",
      "24\n",
      "24\n",
      "24\n",
      "24\n",
      "24\n",
      "24\n",
      "24\n",
      "24\n",
      "24\n",
      "24\n",
      "24\n",
      "24\n",
      "24\n",
      "24\n",
      "24\n",
      "24\n",
      "24\n",
      "24\n",
      "24\n",
      "24\n",
      "24\n",
      "24\n",
      "24\n",
      "24\n",
      "24\n",
      "24\n",
      "24\n",
      "24\n",
      "24\n",
      "24\n",
      "24\n",
      "24\n",
      "24\n",
      "24\n",
      "24\n",
      "24\n",
      "24\n",
      "24\n",
      "24\n",
      "24\n",
      "24\n",
      "24\n",
      "24\n",
      "24\n",
      "25\n",
      "25\n",
      "25\n",
      "25\n",
      "25\n",
      "24\n",
      "24\n",
      "24\n",
      "24\n",
      "24\n",
      "24\n",
      "24\n",
      "24\n",
      "24\n",
      "24\n",
      "24\n",
      "24\n",
      "24\n",
      "24\n",
      "24\n",
      "24\n",
      "24\n",
      "24\n",
      "24\n",
      "24\n",
      "24\n",
      "24\n",
      "24\n",
      "24\n",
      "24\n",
      "24\n",
      "24\n",
      "24\n",
      "24\n",
      "24\n",
      "24\n",
      "24\n",
      "24\n",
      "24\n",
      "24\n",
      "24\n",
      "24\n",
      "24\n",
      "24\n",
      "24\n",
      "24\n",
      "24\n",
      "24\n",
      "24\n",
      "24\n",
      "24\n",
      "24\n",
      "24\n",
      "24\n",
      "24\n",
      "24\n",
      "24\n",
      "24\n",
      "24\n",
      "24\n",
      "24\n",
      "24\n",
      "24\n",
      "24\n",
      "24\n",
      "24\n",
      "24\n",
      "24\n",
      "25\n",
      "25\n",
      "25\n",
      "25\n",
      "24\n",
      "24\n",
      "24\n",
      "24\n",
      "24\n",
      "24\n",
      "24\n",
      "24\n",
      "24\n",
      "24\n",
      "24\n",
      "24\n",
      "24\n",
      "24\n",
      "24\n",
      "24\n",
      "24\n",
      "24\n",
      "24\n",
      "24\n",
      "24\n",
      "24\n",
      "24\n",
      "24\n",
      "24\n",
      "24\n",
      "24\n",
      "24\n",
      "24\n",
      "24\n",
      "24\n",
      "24\n",
      "24\n",
      "24\n",
      "24\n",
      "24\n",
      "24\n",
      "24\n",
      "24\n",
      "24\n",
      "24\n",
      "24\n",
      "24\n",
      "24\n",
      "24\n",
      "24\n",
      "24\n",
      "24\n",
      "24\n",
      "24\n",
      "24\n",
      "24\n",
      "24\n",
      "24\n",
      "24\n",
      "24\n",
      "24\n",
      "24\n",
      "24\n",
      "24\n",
      "24\n",
      "24\n",
      "24\n",
      "24\n",
      "24\n",
      "24\n",
      "24\n",
      "24\n",
      "24\n",
      "24\n",
      "24\n",
      "24\n",
      "24\n",
      "24\n",
      "25\n",
      "25\n",
      "25\n",
      "25\n",
      "24\n",
      "24\n",
      "24\n",
      "24\n",
      "24\n",
      "24\n",
      "24\n",
      "24\n",
      "24\n",
      "24\n",
      "24\n",
      "24\n",
      "24\n",
      "24\n",
      "24\n",
      "24\n",
      "24\n",
      "24\n",
      "24\n",
      "24\n",
      "24\n",
      "24\n",
      "24\n",
      "24\n",
      "24\n",
      "24\n",
      "24\n",
      "24\n",
      "24\n",
      "24\n",
      "24\n",
      "24\n",
      "24\n",
      "24\n",
      "24\n",
      "24\n",
      "24\n",
      "24\n",
      "24\n",
      "24\n",
      "24\n",
      "24\n",
      "24\n",
      "24\n",
      "24\n",
      "24\n",
      "24\n",
      "24\n",
      "24\n",
      "24\n",
      "24\n",
      "24\n",
      "24\n",
      "24\n",
      "24\n",
      "24\n",
      "24\n",
      "24\n",
      "24\n",
      "24\n",
      "24\n",
      "24\n",
      "24\n",
      "24\n",
      "24\n",
      "24\n",
      "24\n",
      "24\n",
      "24\n",
      "24\n",
      "24\n",
      "24\n",
      "24\n",
      "24\n",
      "24\n",
      "24\n",
      "24\n",
      "24\n",
      "25\n",
      "25\n",
      "25\n",
      "25\n",
      "25\n",
      "25\n",
      "24\n",
      "24\n",
      "24\n",
      "24\n",
      "24\n",
      "24\n",
      "24\n",
      "24\n",
      "24\n",
      "24\n",
      "24\n",
      "24\n",
      "24\n",
      "24\n",
      "24\n",
      "24\n",
      "24\n",
      "24\n",
      "24\n",
      "24\n",
      "24\n",
      "24\n",
      "24\n",
      "24\n",
      "24\n",
      "24\n",
      "24\n",
      "24\n",
      "24\n",
      "24\n",
      "24\n",
      "25\n",
      "24\n",
      "24\n",
      "24\n",
      "24\n",
      "24\n",
      "24\n",
      "24\n",
      "24\n",
      "24\n",
      "24\n",
      "24\n",
      "24\n",
      "24\n",
      "24\n",
      "24\n",
      "24\n",
      "24\n",
      "24\n",
      "24\n",
      "24\n",
      "24\n",
      "24\n",
      "24\n",
      "24\n",
      "24\n",
      "24\n",
      "24\n",
      "24\n",
      "24\n",
      "24\n",
      "24\n",
      "24\n",
      "24\n",
      "24\n",
      "24\n",
      "24\n",
      "24\n",
      "24\n",
      "24\n",
      "24\n",
      "24\n",
      "24\n",
      "24\n",
      "24\n",
      "24\n",
      "24\n",
      "24\n",
      "24\n",
      "24\n",
      "24\n",
      "24\n",
      "24\n",
      "24\n",
      "24\n",
      "25\n",
      "25\n",
      "25\n",
      "25\n",
      "25\n",
      "25\n",
      "25\n",
      "24\n",
      "24\n",
      "24\n",
      "24\n",
      "24\n",
      "24\n",
      "24\n",
      "24\n",
      "24\n",
      "24\n",
      "24\n",
      "24\n",
      "24\n",
      "24\n",
      "24\n",
      "24\n",
      "24\n",
      "24\n",
      "24\n",
      "24\n",
      "24\n",
      "24\n",
      "24\n",
      "24\n",
      "24\n",
      "24\n",
      "24\n",
      "24\n",
      "24\n",
      "24\n",
      "24\n",
      "25\n",
      "24\n",
      "24\n",
      "24\n",
      "24\n",
      "24\n",
      "24\n",
      "24\n",
      "24\n",
      "24\n",
      "24\n",
      "24\n",
      "24\n",
      "24\n",
      "24\n",
      "24\n",
      "24\n",
      "24\n",
      "24\n",
      "24\n",
      "24\n",
      "24\n",
      "24\n",
      "24\n",
      "24\n",
      "24\n",
      "24\n",
      "24\n",
      "24\n",
      "24\n",
      "24\n",
      "24\n",
      "25\n",
      "25\n",
      "24\n",
      "24\n",
      "24\n",
      "24\n",
      "24\n",
      "24\n",
      "24\n",
      "24\n",
      "24\n",
      "24\n",
      "24\n",
      "24\n",
      "24\n",
      "25\n",
      "25\n",
      "25\n",
      "25\n",
      "25\n",
      "25\n",
      "25\n",
      "25\n",
      "25\n",
      "24\n",
      "24\n",
      "24\n",
      "24\n",
      "24\n",
      "24\n",
      "24\n",
      "24\n",
      "24\n",
      "24\n",
      "24\n",
      "24\n",
      "24\n",
      "24\n",
      "24\n",
      "24\n",
      "24\n",
      "24\n",
      "24\n",
      "24\n",
      "24\n",
      "24\n",
      "24\n",
      "24\n",
      "24\n",
      "24\n",
      "24\n",
      "24\n",
      "24\n",
      "24\n",
      "24\n",
      "25\n",
      "25\n",
      "25\n",
      "25\n",
      "25\n",
      "25\n",
      "25\n",
      "25\n",
      "25\n",
      "25\n",
      "24\n",
      "24\n",
      "24\n",
      "24\n",
      "24\n",
      "24\n",
      "24\n",
      "24\n",
      "24\n",
      "24\n",
      "24\n",
      "24\n",
      "24\n",
      "24\n",
      "24\n",
      "24\n",
      "24\n",
      "24\n",
      "25\n",
      "25\n",
      "25\n",
      "25\n",
      "24\n",
      "24\n",
      "24\n",
      "24\n",
      "24\n",
      "24\n",
      "24\n",
      "24\n",
      "24\n",
      "24\n",
      "24\n",
      "24\n",
      "24\n",
      "25\n",
      "24\n",
      "24\n",
      "24\n",
      "24\n",
      "24\n",
      "25\n",
      "25\n",
      "25\n",
      "24\n",
      "24\n",
      "24\n",
      "24\n",
      "24\n",
      "24\n",
      "24\n",
      "24\n",
      "24\n",
      "24\n",
      "24\n",
      "24\n",
      "24\n",
      "24\n",
      "24\n",
      "24\n",
      "24\n",
      "24\n",
      "24\n",
      "24\n",
      "24\n",
      "24\n",
      "24\n",
      "24\n",
      "24\n",
      "24\n",
      "24\n",
      "24\n",
      "24\n",
      "24\n",
      "24\n",
      "25\n",
      "25\n",
      "25\n",
      "25\n",
      "25\n",
      "25\n",
      "25\n",
      "25\n",
      "25\n",
      "25\n",
      "25\n",
      "25\n",
      "25\n",
      "25\n",
      "24\n",
      "24\n",
      "24\n",
      "24\n",
      "24\n",
      "24\n",
      "24\n",
      "24\n",
      "24\n",
      "24\n",
      "24\n",
      "25\n",
      "25\n",
      "25\n",
      "25\n",
      "25\n",
      "25\n",
      "24\n",
      "24\n",
      "24\n",
      "24\n",
      "24\n",
      "24\n",
      "24\n",
      "24\n",
      "24\n",
      "24\n",
      "24\n",
      "24\n",
      "24\n",
      "24\n",
      "24\n",
      "25\n",
      "25\n",
      "24\n",
      "24\n",
      "24\n",
      "24\n",
      "25\n",
      "25\n",
      "25\n",
      "24\n",
      "24\n",
      "24\n",
      "24\n",
      "24\n",
      "24\n",
      "24\n",
      "24\n",
      "24\n",
      "24\n",
      "24\n",
      "24\n",
      "24\n",
      "24\n",
      "24\n",
      "24\n",
      "24\n",
      "24\n",
      "24\n",
      "24\n",
      "24\n",
      "24\n",
      "24\n",
      "24\n",
      "24\n",
      "24\n",
      "24\n",
      "24\n",
      "24\n",
      "24\n",
      "24\n",
      "24\n",
      "25\n",
      "25\n",
      "25\n",
      "25\n",
      "25\n",
      "25\n",
      "25\n",
      "25\n",
      "25\n",
      "25\n",
      "25\n",
      "25\n",
      "25\n",
      "25\n",
      "25\n",
      "25\n",
      "25\n",
      "24\n",
      "24\n",
      "24\n",
      "24\n",
      "24\n",
      "24\n",
      "25\n",
      "25\n",
      "25\n",
      "25\n",
      "25\n",
      "25\n",
      "24\n",
      "24\n",
      "24\n",
      "24\n",
      "24\n",
      "24\n",
      "24\n",
      "24\n",
      "24\n",
      "24\n",
      "24\n",
      "24\n",
      "24\n",
      "24\n",
      "24\n",
      "24\n",
      "24\n",
      "24\n",
      "24\n",
      "24\n",
      "25\n",
      "25\n",
      "25\n",
      "25\n",
      "24\n",
      "24\n",
      "24\n",
      "24\n",
      "24\n",
      "24\n",
      "24\n",
      "24\n",
      "24\n",
      "24\n",
      "24\n",
      "24\n",
      "24\n",
      "24\n",
      "24\n",
      "24\n",
      "24\n",
      "24\n"
     ]
    }
   ],
   "source": [
    "cloudMask, changed_positions = fake_cloud_ratio(cloud_mask=cloudMask, ratio=0.75)\n",
    "\n",
    "np.save('/mnt/data1tb/BRIOS/data2/changed_positions_75.npy', changed_positions)"
   ]
  },
  {
   "cell_type": "code",
   "execution_count": 609,
   "metadata": {},
   "outputs": [
    {
     "name": "stdout",
     "output_type": "stream",
     "text": [
      "so gia tri = 1 trong cloudmask = 52053\n",
      "so gia tri = 0 trong cloudmask = 11611\n"
     ]
    }
   ],
   "source": [
    "print(f'so gia tri = 1 trong cloudmask = {np.sum(cloudMask==1)}')\n",
    "print(f'so gia tri = 0 trong cloudmask = {np.sum(cloudMask==0)}')"
   ]
  },
  {
   "cell_type": "markdown",
   "metadata": {},
   "source": [
    "# Make mask valid data (data can be used for training)\n",
    "- data_num: count the number of observations without cloud in each series"
   ]
  },
  {
   "cell_type": "code",
   "execution_count": 610,
   "metadata": {},
   "outputs": [],
   "source": [
    "data_num = np.full(ndvi_data.shape[0], ndvi_data.shape[1])"
   ]
  },
  {
   "cell_type": "code",
   "execution_count": 611,
   "metadata": {},
   "outputs": [
    {
     "data": {
      "text/plain": [
       "(1384,)"
      ]
     },
     "execution_count": 611,
     "metadata": {},
     "output_type": "execute_result"
    }
   ],
   "source": [
    "data_num.shape"
   ]
  },
  {
   "cell_type": "code",
   "execution_count": 612,
   "metadata": {},
   "outputs": [],
   "source": [
    "for series_index in range(cloudMask.shape[0]):\n",
    "    num_ones = len(np.argwhere(cloudMask[series_index] == 1))\n",
    "    data_num[series_index] -= num_ones"
   ]
  },
  {
   "cell_type": "code",
   "execution_count": 613,
   "metadata": {},
   "outputs": [
    {
     "data": {
      "text/plain": [
       "array([8, 8, 8, ..., 8, 8, 8])"
      ]
     },
     "execution_count": 613,
     "metadata": {},
     "output_type": "execute_result"
    }
   ],
   "source": [
    "data_num"
   ]
  },
  {
   "cell_type": "code",
   "execution_count": 614,
   "metadata": {},
   "outputs": [],
   "source": [
    "valid_with_data_num = np.argwhere(data_num >= 1)"
   ]
  },
  {
   "cell_type": "code",
   "execution_count": 615,
   "metadata": {},
   "outputs": [
    {
     "data": {
      "text/plain": [
       "1384"
      ]
     },
     "execution_count": 615,
     "metadata": {},
     "output_type": "execute_result"
    }
   ],
   "source": [
    "len(valid_with_data_num)"
   ]
  },
  {
   "cell_type": "code",
   "execution_count": 616,
   "metadata": {},
   "outputs": [
    {
     "data": {
      "text/plain": [
       "(1384, 46)"
      ]
     },
     "execution_count": 616,
     "metadata": {},
     "output_type": "execute_result"
    }
   ],
   "source": [
    "rvi_data.shape"
   ]
  },
  {
   "cell_type": "markdown",
   "metadata": {},
   "source": [
    "mask sar\n",
    "- 1: unvalid (sar get nan) \n",
    "- 0: valid (fully data)"
   ]
  },
  {
   "cell_type": "code",
   "execution_count": 617,
   "metadata": {},
   "outputs": [],
   "source": [
    "unvalid_rvi = np.where(np.isnan(rvi_data).any(axis=1), 1, 0)"
   ]
  },
  {
   "cell_type": "code",
   "execution_count": 618,
   "metadata": {},
   "outputs": [
    {
     "name": "stdout",
     "output_type": "stream",
     "text": [
      "[0 0 0 ... 0 0 0]\n"
     ]
    }
   ],
   "source": [
    "print(unvalid_rvi)"
   ]
  },
  {
   "cell_type": "code",
   "execution_count": 619,
   "metadata": {},
   "outputs": [],
   "source": [
    "unvalid_vh = np.where(np.isnan(vh_data).any(axis=1), 1, 0)"
   ]
  },
  {
   "cell_type": "code",
   "execution_count": 620,
   "metadata": {},
   "outputs": [
    {
     "name": "stdout",
     "output_type": "stream",
     "text": [
      "[0 0 0 ... 0 0 0]\n"
     ]
    }
   ],
   "source": [
    "print(unvalid_vh)"
   ]
  },
  {
   "cell_type": "code",
   "execution_count": 621,
   "metadata": {},
   "outputs": [],
   "source": [
    "\n",
    "combined_mask = np.where(np.logical_or(unvalid_rvi == 1, unvalid_vh == 1), 1, 0)"
   ]
  },
  {
   "cell_type": "markdown",
   "metadata": {},
   "source": [
    "make mask Train"
   ]
  },
  {
   "cell_type": "code",
   "execution_count": 622,
   "metadata": {},
   "outputs": [],
   "source": [
    "index_for_train = np.where((data_num >= 1) & (combined_mask == 0))[0]"
   ]
  },
  {
   "cell_type": "code",
   "execution_count": 623,
   "metadata": {},
   "outputs": [],
   "source": [
    "def choose_data_validate(arr_index, valid_ratio = 0.0):\n",
    "    num_valid = max(1, int(valid_ratio * len(arr_index)))\n",
    "    index_for_valid = np.random.choice(arr_index, num_valid, replace=False)\n",
    "    return index_for_valid"
   ]
  },
  {
   "cell_type": "code",
   "execution_count": 624,
   "metadata": {},
   "outputs": [
    {
     "data": {
      "text/plain": [
       "1384"
      ]
     },
     "execution_count": 624,
     "metadata": {},
     "output_type": "execute_result"
    }
   ],
   "source": [
    "len(index_for_train)"
   ]
  },
  {
   "cell_type": "markdown",
   "metadata": {},
   "source": [
    "luu x y sau khi chon index"
   ]
  },
  {
   "cell_type": "code",
   "execution_count": 625,
   "metadata": {},
   "outputs": [],
   "source": [
    "# coordinates_second = coordinates_second = coordinates_first[index_for_train]"
   ]
  },
  {
   "cell_type": "code",
   "execution_count": 626,
   "metadata": {},
   "outputs": [],
   "source": [
    "# coordinates_second[0]"
   ]
  },
  {
   "cell_type": "code",
   "execution_count": 627,
   "metadata": {},
   "outputs": [],
   "source": [
    "# np.save('/mnt/data1tb/BRIOS/dataTrain/coordinates.npy', coordinates_second)"
   ]
  },
  {
   "cell_type": "code",
   "execution_count": 628,
   "metadata": {},
   "outputs": [],
   "source": [
    "cloudMask0 = cloudMask"
   ]
  },
  {
   "cell_type": "code",
   "execution_count": 629,
   "metadata": {},
   "outputs": [
    {
     "data": {
      "text/plain": [
       "array([ 0,  3, 27, 28, 29, 34, 35, 41, 43])"
      ]
     },
     "execution_count": 629,
     "metadata": {},
     "output_type": "execute_result"
    }
   ],
   "source": [
    "np.where(cloudMask[942] == 0)[0]"
   ]
  },
  {
   "cell_type": "code",
   "execution_count": 630,
   "metadata": {},
   "outputs": [],
   "source": [
    "# for series_index in index_for_train:\n",
    "#     uncloud_index = np.where(cloudMask0[series_index] == 0)[0]\n",
    "#     fakecloud_index = choose_data_validate(uncloud_index)\n",
    "#     cloudMask0[series_index, fakecloud_index] = 2"
   ]
  },
  {
   "cell_type": "code",
   "execution_count": 631,
   "metadata": {},
   "outputs": [],
   "source": [
    "ndvi_input = ndvi_data[index_for_train]\n",
    "rvi_input = rvi_data[index_for_train]\n",
    "vh_input = vh_data[index_for_train]"
   ]
  },
  {
   "cell_type": "code",
   "execution_count": 632,
   "metadata": {},
   "outputs": [],
   "source": [
    "cloudmask_input = cloudMask0[index_for_train]"
   ]
  },
  {
   "cell_type": "code",
   "execution_count": 633,
   "metadata": {},
   "outputs": [
    {
     "data": {
      "text/plain": [
       "array([1., 1., 0., 1., 1., 0., 0., 1., 1., 1., 1., 1., 1., 1., 1., 1., 1.,\n",
       "       1., 1., 0., 1., 1., 1., 1., 1., 1., 1., 1., 1., 1., 0., 1., 0., 1.,\n",
       "       1., 1., 1., 1., 1., 1., 0., 1., 1., 1., 1., 0.])"
      ]
     },
     "execution_count": 633,
     "metadata": {},
     "output_type": "execute_result"
    }
   ],
   "source": [
    "cloudmask_input[0]"
   ]
  },
  {
   "cell_type": "code",
   "execution_count": 634,
   "metadata": {},
   "outputs": [
    {
     "data": {
      "text/plain": [
       "array([       nan,        nan, 0.4392558 , 0.43852931, 0.4696635 ,\n",
       "       0.42532909, 0.44989339, 0.3755179 ,        nan, 0.55950755,\n",
       "       0.43296704, 0.36270413,        nan, 0.34070158, 0.34070158,\n",
       "              nan,        nan,        nan, 0.19552609, 0.19183846,\n",
       "       0.20591967, 0.22343096,        nan,        nan,        nan,\n",
       "              nan,        nan,        nan, 0.19717787, 0.19717787,\n",
       "       0.20403515, 0.24450952, 0.29652864,        nan, 0.35159817,\n",
       "       0.392658  , 0.45704058, 0.27272728, 0.27272728, 0.36832413,\n",
       "       0.36832413, 0.52253461, 0.50308371, 0.42815393, 0.27344027,\n",
       "       0.27344027])"
      ]
     },
     "execution_count": 634,
     "metadata": {},
     "output_type": "execute_result"
    }
   ],
   "source": [
    "ndvi_input[0]"
   ]
  },
  {
   "cell_type": "code",
   "execution_count": 635,
   "metadata": {},
   "outputs": [],
   "source": [
    "mask_train = np.where(cloudmask_input == 0, 1, 0)\n",
    "mask_eval = np.where(cloudmask_input == 2, 1, 0)"
   ]
  },
  {
   "cell_type": "code",
   "execution_count": 636,
   "metadata": {},
   "outputs": [],
   "source": [
    "# mask_train[:] = 1\n"
   ]
  },
  {
   "cell_type": "code",
   "execution_count": 637,
   "metadata": {},
   "outputs": [
    {
     "data": {
      "text/plain": [
       "array([0, 0, 1, 0, 0, 1, 1, 0, 0, 0, 0, 0, 0, 0, 0, 0, 0, 0, 0, 1, 0, 0,\n",
       "       0, 0, 0, 0, 0, 0, 0, 0, 1, 0, 1, 0, 0, 0, 0, 0, 0, 0, 1, 0, 0, 0,\n",
       "       0, 1])"
      ]
     },
     "execution_count": 637,
     "metadata": {},
     "output_type": "execute_result"
    }
   ],
   "source": [
    "mask_train[0]"
   ]
  },
  {
   "cell_type": "code",
   "execution_count": 638,
   "metadata": {},
   "outputs": [
    {
     "data": {
      "text/plain": [
       "array([0, 0, 0, 0, 0, 0, 0, 0, 0, 0, 0, 0, 0, 0, 0, 0, 0, 0, 0, 0, 0, 0,\n",
       "       0, 0, 0, 0, 0, 0, 0, 0, 0, 0, 0, 0, 0, 0, 0, 0, 0, 0, 0, 0, 0, 0,\n",
       "       0, 0])"
      ]
     },
     "execution_count": 638,
     "metadata": {},
     "output_type": "execute_result"
    }
   ],
   "source": [
    "mask_eval[0]"
   ]
  },
  {
   "cell_type": "code",
   "execution_count": 639,
   "metadata": {},
   "outputs": [],
   "source": [
    "input_data = np.stack([rvi_input, vh_input, ndvi_input], axis=1)"
   ]
  },
  {
   "cell_type": "code",
   "execution_count": 640,
   "metadata": {},
   "outputs": [
    {
     "data": {
      "text/plain": [
       "(1384, 3, 46)"
      ]
     },
     "execution_count": 640,
     "metadata": {},
     "output_type": "execute_result"
    }
   ],
   "source": [
    "input_data.shape"
   ]
  },
  {
   "cell_type": "code",
   "execution_count": 641,
   "metadata": {},
   "outputs": [
    {
     "data": {
      "text/plain": [
       "array([       nan,        nan, 0.4392558 , 0.43852931, 0.4696635 ,\n",
       "       0.42532909, 0.44989339, 0.3755179 ,        nan, 0.55950755,\n",
       "       0.43296704, 0.36270413,        nan, 0.34070158, 0.34070158,\n",
       "              nan,        nan,        nan, 0.19552609, 0.19183846,\n",
       "       0.20591967, 0.22343096,        nan,        nan,        nan,\n",
       "              nan,        nan,        nan, 0.19717787, 0.19717787,\n",
       "       0.20403515, 0.24450952, 0.29652864,        nan, 0.35159817,\n",
       "       0.392658  , 0.45704058, 0.27272728, 0.27272728, 0.36832413,\n",
       "       0.36832413, 0.52253461, 0.50308371, 0.42815393, 0.27344027,\n",
       "       0.27344027])"
      ]
     },
     "execution_count": 641,
     "metadata": {},
     "output_type": "execute_result"
    }
   ],
   "source": [
    "input_data[0,2,:]"
   ]
  },
  {
   "cell_type": "markdown",
   "metadata": {},
   "source": [
    "have dataset contains: \n",
    "- input data: [rvi, vh, ndvi] (n_series, n_features, n_timesteps)\n",
    "- mask_train: 1 => training, 0 => no\n",
    "- mask_eval: 1 => validating, 0 => no"
   ]
  },
  {
   "cell_type": "markdown",
   "metadata": {},
   "source": [
    "Create delta"
   ]
  },
  {
   "cell_type": "code",
   "execution_count": 642,
   "metadata": {},
   "outputs": [],
   "source": [
    "def cal_timestep(time, mask):\n",
    "    \"\"\"calculate timestep (between step t to step t-i nearest without cloud)\n",
    "\n",
    "    Args:\n",
    "        time (_type_): _description_\n",
    "        mask (_type_): _description_\n",
    "\n",
    "    Returns:\n",
    "        deltaT: timestep\n",
    "    \"\"\"\n",
    "    deltaT = time.copy()\n",
    "    for i in range(len(time)):\n",
    "        T_time0 = time[i]\n",
    "        if i != 0:\n",
    "            for k in range(i - 1, -1, -1):\n",
    "                T_time1 = time[k]\n",
    "                if mask[k] == 1:\n",
    "                    T_time1 = time[k]\n",
    "                    break\n",
    "\n",
    "            T = T_time0-T_time1\n",
    "        else:\n",
    "            T = 0\n",
    "\n",
    "        deltaT[i] = T\n",
    "\n",
    "    return deltaT"
   ]
  },
  {
   "cell_type": "code",
   "execution_count": 643,
   "metadata": {},
   "outputs": [],
   "source": [
    "feature_num = 3\n",
    "time = np.arange(1,369,8)\n",
    "deltaT_forward = np.zeros((len(index_for_train), 46))\n",
    "for i in range(len(index_for_train)):\n",
    "    maskone = mask_train[i, :]\n",
    "    done = cal_timestep(time, maskone)\n",
    "    deltaT_forward[i, :] = done"
   ]
  },
  {
   "cell_type": "code",
   "execution_count": 644,
   "metadata": {},
   "outputs": [],
   "source": [
    "deltaT_backward = np.zeros((len(index_for_train), 46))\n",
    "for i in range(len(index_for_train)):\n",
    "    maskone = mask_train[i, :]\n",
    "    maskone = maskone[::-1]\n",
    "    done = cal_timestep(time, maskone)\n",
    "    deltaT_backward[i, :] = done"
   ]
  },
  {
   "cell_type": "code",
   "execution_count": 645,
   "metadata": {},
   "outputs": [
    {
     "data": {
      "text/plain": [
       "array([  0.,   8.,  16.,  24.,  32.,  40.,   8.,  16.,  24.,  32.,  40.,\n",
       "        48.,  56.,  64.,   8.,  16.,   8.,  16.,  24.,  32.,  40.,  48.,\n",
       "        56.,  64.,  72.,  80.,  88.,   8.,  16.,  24.,  32.,  40.,  48.,\n",
       "        56.,  64.,  72.,  80.,  88.,  96., 104.,   8.,   8.,  16.,  24.,\n",
       "         8.,  16.])"
      ]
     },
     "execution_count": 645,
     "metadata": {},
     "output_type": "execute_result"
    }
   ],
   "source": [
    "deltaT_backward[0]"
   ]
  },
  {
   "cell_type": "code",
   "execution_count": 646,
   "metadata": {},
   "outputs": [
    {
     "data": {
      "text/plain": [
       "array([  0.,   8.,  16.,   8.,  16.,  24.,   8.,   8.,  16.,  24.,  32.,\n",
       "        40.,  48.,  56.,  64.,  72.,  80.,  88.,  96., 104.,   8.,  16.,\n",
       "        24.,  32.,  40.,  48.,  56.,  64.,  72.,  80.,  88.,   8.,  16.,\n",
       "         8.,  16.,  24.,  32.,  40.,  48.,  56.,  64.,   8.,  16.,  24.,\n",
       "        32.,  40.])"
      ]
     },
     "execution_count": 646,
     "metadata": {},
     "output_type": "execute_result"
    }
   ],
   "source": [
    "deltaT_forward[0]"
   ]
  },
  {
   "cell_type": "code",
   "execution_count": 647,
   "metadata": {},
   "outputs": [
    {
     "data": {
      "text/plain": [
       "array([0, 0, 1, 0, 0, 1, 1, 0, 0, 0, 0, 0, 0, 0, 0, 0, 0, 0, 0, 1, 0, 0,\n",
       "       0, 0, 0, 0, 0, 0, 0, 0, 1, 0, 1, 0, 0, 0, 0, 0, 0, 0, 1, 0, 0, 0,\n",
       "       0, 1])"
      ]
     },
     "execution_count": 647,
     "metadata": {},
     "output_type": "execute_result"
    }
   ],
   "source": [
    "mask_train[0]"
   ]
  },
  {
   "cell_type": "code",
   "execution_count": 648,
   "metadata": {},
   "outputs": [
    {
     "name": "stdout",
     "output_type": "stream",
     "text": [
      "Generate time interval for SAR data: \n"
     ]
    }
   ],
   "source": [
    "print('Generate time interval for SAR data: ')\n",
    "deltaTt = np.zeros((len(index_for_train), 46))\n",
    "for i in range(len(index_for_train)):\n",
    "    maskone = np.ones(46)\n",
    "    maskone = np.int_(maskone)\n",
    "    done = cal_timestep(time, maskone)\n",
    "    deltaTt[i, :] = done\n"
   ]
  },
  {
   "cell_type": "code",
   "execution_count": 649,
   "metadata": {},
   "outputs": [
    {
     "data": {
      "text/plain": [
       "array([0., 8., 8., 8., 8., 8., 8., 8., 8., 8., 8., 8., 8., 8., 8., 8., 8.,\n",
       "       8., 8., 8., 8., 8., 8., 8., 8., 8., 8., 8., 8., 8., 8., 8., 8., 8.,\n",
       "       8., 8., 8., 8., 8., 8., 8., 8., 8., 8., 8., 8.])"
      ]
     },
     "execution_count": 649,
     "metadata": {},
     "output_type": "execute_result"
    }
   ],
   "source": [
    "deltaTt[0]"
   ]
  },
  {
   "cell_type": "markdown",
   "metadata": {},
   "source": [
    "make backward input value "
   ]
  },
  {
   "cell_type": "code",
   "execution_count": 650,
   "metadata": {},
   "outputs": [],
   "source": [
    "ndvi_input_backward = ndvi_input[:, ::-1]\n",
    "rvi_input_backward = rvi_input[:, ::-1]\n",
    "vh_input_backward = vh_input[:, ::-1]"
   ]
  },
  {
   "cell_type": "code",
   "execution_count": 651,
   "metadata": {},
   "outputs": [],
   "source": [
    "input_data_backward = np.stack([rvi_input_backward, vh_input_backward, ndvi_input_backward], axis=1)"
   ]
  },
  {
   "cell_type": "code",
   "execution_count": 652,
   "metadata": {},
   "outputs": [
    {
     "data": {
      "text/plain": [
       "(1384, 3, 46)"
      ]
     },
     "execution_count": 652,
     "metadata": {},
     "output_type": "execute_result"
    }
   ],
   "source": [
    "input_data_backward.shape"
   ]
  },
  {
   "cell_type": "markdown",
   "metadata": {},
   "source": [
    "# Final create dataset"
   ]
  },
  {
   "cell_type": "code",
   "execution_count": 653,
   "metadata": {},
   "outputs": [],
   "source": [
    "n_timesteps = 46"
   ]
  },
  {
   "cell_type": "code",
   "execution_count": 654,
   "metadata": {},
   "outputs": [],
   "source": [
    "traindatasets_valuesF = np.empty((n_timesteps, 3, 0),dtype=np.float16)\n",
    "traindatasets_evalmaskF = np.empty((n_timesteps, 0),dtype=np.int8)\n",
    "traindatasets_maskF = np.empty((n_timesteps, 0),dtype=np.int8)\n",
    "traindatasets_deltaF = np.empty((n_timesteps, 3, 0),dtype=np.float16)\n",
    "traindatasets_deltaBF = np.empty((n_timesteps, 3, 0),dtype=np.float16)"
   ]
  },
  {
   "cell_type": "code",
   "execution_count": 655,
   "metadata": {},
   "outputs": [
    {
     "name": "stdout",
     "output_type": "stream",
     "text": [
      "Generate training datasets: \n"
     ]
    }
   ],
   "source": [
    "print('Generate training datasets: ')\n",
    "trainingdatasets_values = np.zeros((46,3, len(index_for_train)))\n",
    "for step in range(46):\n",
    "    for series_index in range(len(index_for_train)):\n",
    "        trainingdatasets_values[step, 0, series_index] = vh_input[series_index, step]\n",
    "        trainingdatasets_values[step, 1, series_index] = rvi_input[series_index, step]\n",
    "        if np.isnan(ndvi_input[series_index, step]):\n",
    "            trainingdatasets_values[step, 2, series_index] = -100\n",
    "        else:\n",
    "            trainingdatasets_values[step, 2, series_index] = ndvi_input[series_index, step]\n",
    "traindatasets_valuesF = np.concatenate((traindatasets_valuesF, trainingdatasets_values), axis=2)"
   ]
  },
  {
   "cell_type": "code",
   "execution_count": 656,
   "metadata": {},
   "outputs": [
    {
     "name": "stdout",
     "output_type": "stream",
     "text": [
      "Generate evalmask: \n"
     ]
    }
   ],
   "source": [
    "print('Generate evalmask: ')\n",
    "traindatasets_evalmask = np.zeros((46,len(index_for_train)), dtype=np.int8)\n",
    "for step in range(46):\n",
    "    for series_index in range(len(index_for_train)):\n",
    "        traindatasets_evalmask[step, series_index] = mask_eval[series_index, step]\n",
    "traindatasets_evalmaskF = np.concatenate((traindatasets_evalmaskF, traindatasets_evalmask), axis=1)"
   ]
  },
  {
   "cell_type": "code",
   "execution_count": 657,
   "metadata": {},
   "outputs": [
    {
     "name": "stdout",
     "output_type": "stream",
     "text": [
      "Generate mask tran: \n"
     ]
    }
   ],
   "source": [
    "print('Generate mask tran: ')\n",
    "traindatasets_mask = np.zeros((46, len(index_for_train)), dtype=np.int8)\n",
    "for step in range(46):\n",
    "    for series_index in range(len(index_for_train)):\n",
    "        traindatasets_mask[step, series_index] = mask_train[series_index, step]\n",
    "traindatasets_maskF = np.concatenate((traindatasets_maskF, traindatasets_mask), axis=1)\n",
    "        "
   ]
  },
  {
   "cell_type": "code",
   "execution_count": 658,
   "metadata": {},
   "outputs": [
    {
     "name": "stdout",
     "output_type": "stream",
     "text": [
      "Generate training delta datasets: \n"
     ]
    }
   ],
   "source": [
    "print('Generate training delta datasets: ')\n",
    "traindatasets_delta = np.zeros((46, 3, len(index_for_train)), dtype=np.float16)\n",
    "for step in range(46):\n",
    "    for series_index in range(len(index_for_train)):\n",
    "        traindatasets_delta[step, 0, series_index] = deltaTt[series_index, step]\n",
    "        traindatasets_delta[step, 1, series_index] = deltaTt[series_index, step]\n",
    "        traindatasets_delta[step, 2, series_index] = deltaT_forward[series_index, step]\n",
    "traindatasets_deltaF = np.concatenate((traindatasets_deltaF, traindatasets_delta), axis=2)"
   ]
  },
  {
   "cell_type": "code",
   "execution_count": 659,
   "metadata": {},
   "outputs": [
    {
     "name": "stdout",
     "output_type": "stream",
     "text": [
      "Generate training delta dataset backward: \n"
     ]
    }
   ],
   "source": [
    "print('Generate training delta dataset backward: ')\n",
    "traindatasets_delta_backward = np.zeros((46, 3, len(index_for_train)), dtype=np.float16)\n",
    "for step in range(46):\n",
    "    for series_index in range(len(index_for_train)):\n",
    "        traindatasets_delta_backward[step, 0, series_index] = deltaTt[series_index, step]\n",
    "        traindatasets_delta_backward[step, 1, series_index] = deltaTt[series_index, step]\n",
    "        traindatasets_delta_backward[step, 2, series_index] = deltaT_backward[series_index, step]\n",
    "traindatasets_deltaBF = np.concatenate((traindatasets_deltaBF, traindatasets_delta_backward), axis=2)"
   ]
  },
  {
   "cell_type": "code",
   "execution_count": 660,
   "metadata": {},
   "outputs": [
    {
     "data": {
      "text/plain": [
       "(46, 3, 1384)"
      ]
     },
     "execution_count": 660,
     "metadata": {},
     "output_type": "execute_result"
    }
   ],
   "source": [
    "traindatasets_valuesF.shape"
   ]
  },
  {
   "cell_type": "code",
   "execution_count": 661,
   "metadata": {},
   "outputs": [
    {
     "data": {
      "text/plain": [
       "array([[0, 0, 0, ..., 1, 0, 0],\n",
       "       [0, 0, 0, ..., 0, 1, 1],\n",
       "       [1, 0, 0, ..., 0, 0, 0],\n",
       "       ...,\n",
       "       [0, 1, 0, ..., 0, 0, 0],\n",
       "       [0, 0, 0, ..., 0, 0, 0],\n",
       "       [1, 0, 0, ..., 0, 0, 0]], dtype=int8)"
      ]
     },
     "execution_count": 661,
     "metadata": {},
     "output_type": "execute_result"
    }
   ],
   "source": [
    "traindatasets_maskF"
   ]
  },
  {
   "cell_type": "code",
   "execution_count": 662,
   "metadata": {},
   "outputs": [
    {
     "data": {
      "text/plain": [
       "(1384, 46)"
      ]
     },
     "execution_count": 662,
     "metadata": {},
     "output_type": "execute_result"
    }
   ],
   "source": [
    "cloudMask0.shape"
   ]
  },
  {
   "cell_type": "markdown",
   "metadata": {},
   "source": [
    "# Save dataset to json"
   ]
  },
  {
   "cell_type": "code",
   "execution_count": 663,
   "metadata": {},
   "outputs": [],
   "source": [
    "import numpy as np\n",
    "import json\n",
    "from tqdm import tqdm"
   ]
  },
  {
   "cell_type": "code",
   "execution_count": 664,
   "metadata": {},
   "outputs": [],
   "source": [
    "def parse_rec(values, masks, eval_masks, deltas):\n",
    "    rec = []\n",
    "    for i in range(values.shape[0]):\n",
    "        recone = {}\n",
    "        recone['deltas'] = deltas[i, :].tolist()\n",
    "        recone['masks'] = masks[i].astype('int8').tolist()\n",
    "        recone['values'] = values[i, :].astype('float32').tolist()\n",
    "        recone['eval_masks'] = eval_masks[i].astype('int8').tolist()\n",
    "        rec.append(recone)\n",
    "    return rec"
   ]
  },
  {
   "cell_type": "code",
   "execution_count": 665,
   "metadata": {},
   "outputs": [],
   "source": [
    "def parse_idTrain(id_):\n",
    "    values = traindatasets_valuesF[:, :, id_]\n",
    "    masks = traindatasets_maskF[:, id_]\n",
    "    eval_masks = traindatasets_evalmaskF[:, id_]\n",
    "    deltas = traindatasets_deltaF[:, :, id_]\n",
    "    deltasB = traindatasets_deltaBF[:, :, id_]\n",
    "\n",
    "    rec = {}\n",
    "\n",
    "    rec['forward'] = parse_rec(values, masks, eval_masks, deltas)\n",
    "    rec['backward'] = parse_rec(values[::-1], masks[::-1], eval_masks[::-1], deltasB)\n",
    "\n",
    "    rec = json.dumps(rec)\n",
    "    fs.write(rec + '\\n')"
   ]
  },
  {
   "cell_type": "code",
   "execution_count": 666,
   "metadata": {},
   "outputs": [
    {
     "name": "stdout",
     "output_type": "stream",
     "text": [
      "Save training dataset as JSON: \n"
     ]
    },
    {
     "name": "stderr",
     "output_type": "stream",
     "text": [
      "100%|██████████| 1384/1384 [00:01<00:00, 1338.59it/s]\n"
     ]
    }
   ],
   "source": [
    "dir = '/mnt/data1tb/BRIOS/dataTrain/'\n",
    "fs = open(dir + 'anphu_kinhmon_75.json', 'w')\n",
    "all_len = traindatasets_valuesF.shape[2]\n",
    "print('Save training dataset as JSON: ')\n",
    "for id_ in tqdm(range(all_len)):\n",
    "    parse_idTrain(id_)\n",
    "fs.close()"
   ]
  },
  {
   "cell_type": "code",
   "execution_count": 667,
   "metadata": {},
   "outputs": [],
   "source": [
    "# test = np.load('/mnt/storage/huyekgis/brios/BRIOS/models/res.npy')"
   ]
  },
  {
   "cell_type": "code",
   "execution_count": 668,
   "metadata": {},
   "outputs": [],
   "source": [
    "# test.shape"
   ]
  }
 ],
 "metadata": {
  "kernelspec": {
   "display_name": "myenv",
   "language": "python",
   "name": "python3"
  },
  "language_info": {
   "codemirror_mode": {
    "name": "ipython",
    "version": 3
   },
   "file_extension": ".py",
   "mimetype": "text/x-python",
   "name": "python",
   "nbconvert_exporter": "python",
   "pygments_lexer": "ipython3",
   "version": "3.10.12"
  }
 },
 "nbformat": 4,
 "nbformat_minor": 2
}

{
 "cells": [
  {
   "cell_type": "code",
   "execution_count": 1,
   "metadata": {},
   "outputs": [],
   "source": [
    "import os\n",
    "import rasterio\n",
    "import numpy as np\n",
    "from datetime import datetime, timedelta\n",
    "import re\n",
    "from tqdm import tqdm"
   ]
  },
  {
   "cell_type": "code",
   "execution_count": 23,
   "metadata": {},
   "outputs": [],
   "source": [
    "ndvi_data = np.load('/mnt/data1tb/brios/Data4BRIOS/AnNinh-QuynhPhu-ThaiBinh/ndvi_timeseries.npy')\n"
   ]
  },
  {
   "cell_type": "code",
   "execution_count": 24,
   "metadata": {},
   "outputs": [
    {
     "data": {
      "text/plain": [
       "(464, 396, 46)"
      ]
     },
     "execution_count": 24,
     "metadata": {},
     "output_type": "execute_result"
    }
   ],
   "source": [
    "ndvi_data.shape"
   ]
  },
  {
   "cell_type": "code",
   "execution_count": 10,
   "metadata": {},
   "outputs": [],
   "source": []
  },
  {
   "cell_type": "code",
   "execution_count": 26,
   "metadata": {},
   "outputs": [],
   "source": [
    "x, y, t = ndvi_data.shape\n",
    "coordinates_first = np.array([(i, j) for i in range(x) for j in range(y)])\n",
    "np.save('/mnt/data1tb/brios/Data4BRIOS/AnNinh-QuynhPhu-ThaiBinh/coordinates.npy', coordinates_first)"
   ]
  },
  {
   "cell_type": "code",
   "execution_count": 27,
   "metadata": {},
   "outputs": [
    {
     "data": {
      "text/plain": [
       "(183744, 2)"
      ]
     },
     "execution_count": 27,
     "metadata": {},
     "output_type": "execute_result"
    }
   ],
   "source": [
    "coordinates_first.shape"
   ]
  },
  {
   "cell_type": "code",
   "execution_count": 13,
   "metadata": {},
   "outputs": [
    {
     "name": "stderr",
     "output_type": "stream",
     "text": [
      "Reshape: 100%|██████████| 1/1 [00:00<00:00, 62.34it/s]"
     ]
    },
    {
     "name": "stdout",
     "output_type": "stream",
     "text": [
      "(183744, 46)\n"
     ]
    },
    {
     "name": "stderr",
     "output_type": "stream",
     "text": [
      "\n"
     ]
    },
    {
     "data": {
      "text/plain": [
       "(183744, 46)"
      ]
     },
     "execution_count": 13,
     "metadata": {},
     "output_type": "execute_result"
    }
   ],
   "source": []
  },
  {
   "cell_type": "code",
   "execution_count": 15,
   "metadata": {},
   "outputs": [
    {
     "name": "stderr",
     "output_type": "stream",
     "text": [
      "Reshape: 100%|██████████| 1/1 [00:00<00:00, 59.39it/s]"
     ]
    },
    {
     "name": "stdout",
     "output_type": "stream",
     "text": [
      "(183744, 46)\n"
     ]
    },
    {
     "name": "stderr",
     "output_type": "stream",
     "text": [
      "\n"
     ]
    },
    {
     "data": {
      "text/plain": [
       "(183744, 46)"
      ]
     },
     "execution_count": 15,
     "metadata": {},
     "output_type": "execute_result"
    }
   ],
   "source": []
  },
  {
   "cell_type": "code",
   "execution_count": 16,
   "metadata": {},
   "outputs": [
    {
     "name": "stderr",
     "output_type": "stream",
     "text": [
      "Reshape: 100%|██████████| 1/1 [00:00<00:00, 62.25it/s]"
     ]
    },
    {
     "name": "stdout",
     "output_type": "stream",
     "text": [
      "(183744, 46)\n"
     ]
    },
    {
     "name": "stderr",
     "output_type": "stream",
     "text": [
      "\n"
     ]
    },
    {
     "data": {
      "text/plain": [
       "(183744, 46)"
      ]
     },
     "execution_count": 16,
     "metadata": {},
     "output_type": "execute_result"
    }
   ],
   "source": []
  },
  {
   "cell_type": "code",
   "execution_count": 17,
   "metadata": {},
   "outputs": [
    {
     "data": {
      "text/plain": [
       "(342, 470, 46)"
      ]
     },
     "execution_count": 17,
     "metadata": {},
     "output_type": "execute_result"
    }
   ],
   "source": [
    "test = np.load('/mnt/data1tb/brios/datasets/data2/ndvi_timeseries.npy')\n",
    "test.shape"
   ]
  },
  {
   "cell_type": "code",
   "execution_count": 1,
   "metadata": {},
   "outputs": [
    {
     "name": "stdout",
     "output_type": "stream",
     "text": [
      "Renamed: anninh_ndvi8days_2023-01-29.tif -> ndvi8days_2023-01-29.tif\n",
      "Renamed: anninh_ndvi8days_2023-06-06.tif -> ndvi8days_2023-06-06.tif\n",
      "Renamed: anninh_ndvi8days_2022-10-01.tif -> ndvi8days_2022-10-01.tif\n",
      "Renamed: anninh_ndvi8days_2022-10-09.tif -> ndvi8days_2022-10-09.tif\n",
      "Renamed: anninh_ndvi8days_2022-10-17.tif -> ndvi8days_2022-10-17.tif\n",
      "Renamed: anninh_ndvi8days_2022-10-25.tif -> ndvi8days_2022-10-25.tif\n",
      "Renamed: anninh_ndvi8days_2022-11-02.tif -> ndvi8days_2022-11-02.tif\n",
      "Renamed: anninh_ndvi8days_2022-11-10.tif -> ndvi8days_2022-11-10.tif\n",
      "Renamed: anninh_ndvi8days_2022-11-18.tif -> ndvi8days_2022-11-18.tif\n",
      "Renamed: anninh_ndvi8days_2022-11-26.tif -> ndvi8days_2022-11-26.tif\n",
      "Renamed: anninh_ndvi8days_2022-12-12.tif -> ndvi8days_2022-12-12.tif\n",
      "Renamed: anninh_ndvi8days_2022-12-20.tif -> ndvi8days_2022-12-20.tif\n",
      "Renamed: anninh_ndvi8days_2022-12-28.tif -> ndvi8days_2022-12-28.tif\n",
      "Renamed: anninh_ndvi8days_2023-01-13.tif -> ndvi8days_2023-01-13.tif\n",
      "Renamed: anninh_ndvi8days_2023-01-21.tif -> ndvi8days_2023-01-21.tif\n",
      "Renamed: anninh_ndvi8days_2023-06-14.tif -> ndvi8days_2023-06-14.tif\n",
      "Renamed: anninh_ndvi8days_2023-06-22.tif -> ndvi8days_2023-06-22.tif\n",
      "Renamed: anninh_ndvi8days_2023-06-30.tif -> ndvi8days_2023-06-30.tif\n",
      "Renamed: anninh_ndvi8days_2023-07-08.tif -> ndvi8days_2023-07-08.tif\n",
      "Renamed: anninh_ndvi8days_2023-07-16.tif -> ndvi8days_2023-07-16.tif\n",
      "Renamed: anninh_ndvi8days_2023-07-24.tif -> ndvi8days_2023-07-24.tif\n",
      "Renamed: anninh_ndvi8days_2023-08-01.tif -> ndvi8days_2023-08-01.tif\n",
      "Renamed: anninh_ndvi8days_2023-08-17.tif -> ndvi8days_2023-08-17.tif\n",
      "Renamed: anninh_ndvi8days_2023-08-25.tif -> ndvi8days_2023-08-25.tif\n",
      "Renamed: anninh_ndvi8days_2023-09-02.tif -> ndvi8days_2023-09-02.tif\n",
      "Renamed: anninh_ndvi8days_2023-09-10.tif -> ndvi8days_2023-09-10.tif\n",
      "Renamed: anninh_ndvi8days_2023-09-18.tif -> ndvi8days_2023-09-18.tif\n",
      "Renamed: anninh_ndvi8days_2023-09-26.tif -> ndvi8days_2023-09-26.tif\n",
      "Renamed: anninh_ndvi8days_2023-02-22.tif -> ndvi8days_2023-02-22.tif\n",
      "Renamed: anninh_ndvi8days_2023-03-02.tif -> ndvi8days_2023-03-02.tif\n",
      "Renamed: anninh_ndvi8days_2023-03-10.tif -> ndvi8days_2023-03-10.tif\n",
      "Renamed: anninh_ndvi8days_2023-03-18.tif -> ndvi8days_2023-03-18.tif\n",
      "Renamed: anninh_ndvi8days_2023-03-26.tif -> ndvi8days_2023-03-26.tif\n",
      "Renamed: anninh_ndvi8days_2023-04-03.tif -> ndvi8days_2023-04-03.tif\n",
      "Renamed: anninh_ndvi8days_2023-04-11.tif -> ndvi8days_2023-04-11.tif\n",
      "Renamed: anninh_ndvi8days_2023-04-19.tif -> ndvi8days_2023-04-19.tif\n",
      "Renamed: anninh_ndvi8days_2023-04-27.tif -> ndvi8days_2023-04-27.tif\n",
      "Renamed: anninh_ndvi8days_2023-05-05.tif -> ndvi8days_2023-05-05.tif\n",
      "Renamed: anninh_ndvi8days_2023-05-13.tif -> ndvi8days_2023-05-13.tif\n",
      "Renamed: anninh_ndvi8days_2023-05-21.tif -> ndvi8days_2023-05-21.tif\n",
      "Renamed: anninh_ndvi8days_2023-05-29.tif -> ndvi8days_2023-05-29.tif\n",
      "Đổi tên hoàn tất.\n"
     ]
    }
   ],
   "source": [
    "import os\n",
    "\n",
    "# Thư mục chứa các file\n",
    "folder_path = '/mnt/storage/huyekgis/brios/RAW_TEST_Data/Data4BRIOS_TEST/AnNinh-QuynhPhu-ThaiBinh/anninh_ndvi8days'\n",
    "\n",
    "# Lấy danh sách các file trong thư mục\n",
    "files = [f for f in os.listdir(folder_path) if f.endswith('.tif')]\n",
    "\n",
    "# Lặp qua các file và đổi tên\n",
    "for file in files:\n",
    "    if file.startswith('anninh_ndvi8days_'):  # Kiểm tra file có định dạng cần sửa\n",
    "        # Tên mới\n",
    "        new_name = file.replace('anninh_ndvi8days_', 'ndvi8days_')\n",
    "        # Đường dẫn cũ và mới\n",
    "        old_path = os.path.join(folder_path, file)\n",
    "        new_path = os.path.join(folder_path, new_name)\n",
    "        # Đổi tên file\n",
    "        os.rename(old_path, new_path)\n",
    "        print(f\"Renamed: {file} -> {new_name}\")\n",
    "\n",
    "print(\"Đổi tên hoàn tất.\")\n"
   ]
  },
  {
   "cell_type": "code",
   "execution_count": null,
   "metadata": {},
   "outputs": [],
   "source": []
  }
 ],
 "metadata": {
  "kernelspec": {
   "display_name": "myenv",
   "language": "python",
   "name": "python3"
  },
  "language_info": {
   "codemirror_mode": {
    "name": "ipython",
    "version": 3
   },
   "file_extension": ".py",
   "mimetype": "text/x-python",
   "name": "python",
   "nbconvert_exporter": "python",
   "pygments_lexer": "ipython3",
   "version": "3.10.12"
  }
 },
 "nbformat": 4,
 "nbformat_minor": 2
}

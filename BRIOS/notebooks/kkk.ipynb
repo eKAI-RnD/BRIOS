{
 "cells": [
  {
   "cell_type": "code",
   "execution_count": 1,
   "metadata": {},
   "outputs": [],
   "source": [
    "import numpy as np"
   ]
  },
  {
   "cell_type": "code",
   "execution_count": 6,
   "metadata": {},
   "outputs": [],
   "source": [
    "M = np.array([\n",
    "    [1, 1, 1, 1, 1, 1, 0],\n",
    "    [0, 1, 1, 1, 0, 0, 1],\n",
    "    [1, 1, 1, 1, 0, 1, 0],\n",
    "    [0, 1, 1, 1, 1, 0, 1],\n",
    "    [1, 1, 1, 1, 1, 1, 1]\n",
    "])"
   ]
  },
  {
   "cell_type": "code",
   "execution_count": 7,
   "metadata": {},
   "outputs": [
    {
     "data": {
      "text/plain": [
       "(5, 7)"
      ]
     },
     "execution_count": 7,
     "metadata": {},
     "output_type": "execute_result"
    }
   ],
   "source": [
    "M.shape"
   ]
  },
  {
   "cell_type": "code",
   "execution_count": 18,
   "metadata": {},
   "outputs": [],
   "source": [
    "def solve(arr, n):\n",
    "    rows, cols = arr.shape\n",
    "    res = []\n",
    "    for i in range(rows - n + 1):\n",
    "        for j in range(cols - n + 1):\n",
    "            subarr = arr[i:i+n, j:j+n]\n",
    "            if np.all(subarr==1):\n",
    "                res.append((i,j))\n",
    "                print(subarr)\n",
    "    return res\n",
    "final_res = []\n",
    "for i in range(1, min(M.shape[0], M.shape[1])):\n",
    "    list_sub_arr = solve(M,i)\n",
    "    final_res.append(list_sub_arr)"
   ]
  },
  {
   "cell_type": "code",
   "execution_count": 21,
   "metadata": {},
   "outputs": [
    {
     "name": "stdout",
     "output_type": "stream",
     "text": [
      "1\n",
      "[[1]]\n",
      "[[1]]\n",
      "[[1]]\n",
      "[[1]]\n",
      "[[1]]\n",
      "[[1]]\n",
      "[[1]]\n",
      "[[1]]\n",
      "[[1]]\n",
      "[[1]]\n",
      "[[1]]\n",
      "[[1]]\n",
      "[[1]]\n",
      "[[1]]\n",
      "[[1]]\n",
      "[[1]]\n",
      "[[1]]\n",
      "[[1]]\n",
      "[[1]]\n",
      "[[1]]\n",
      "[[1]]\n",
      "[[1]]\n",
      "[[1]]\n",
      "[[1]]\n",
      "[[1]]\n",
      "[[1]]\n",
      "[[1]]\n",
      "2\n",
      "[[1 1]\n",
      " [1 1]]\n",
      "[[1 1]\n",
      " [1 1]]\n",
      "[[1 1]\n",
      " [1 1]]\n",
      "[[1 1]\n",
      " [1 1]]\n",
      "[[1 1]\n",
      " [1 1]]\n",
      "[[1 1]\n",
      " [1 1]]\n",
      "[[1 1]\n",
      " [1 1]]\n",
      "[[1 1]\n",
      " [1 1]]\n",
      "[[1 1]\n",
      " [1 1]]\n",
      "3\n",
      "[[1 1 1]\n",
      " [1 1 1]\n",
      " [1 1 1]]\n",
      "[[1 1 1]\n",
      " [1 1 1]\n",
      " [1 1 1]]\n",
      "[[1 1 1]\n",
      " [1 1 1]\n",
      " [1 1 1]]\n",
      "4\n"
     ]
    }
   ],
   "source": []
  },
  {
   "cell_type": "code",
   "execution_count": 17,
   "metadata": {},
   "outputs": [
    {
     "name": "stdout",
     "output_type": "stream",
     "text": [
      "[(0, 0), (0, 1), (0, 2), (0, 3), (0, 4), (0, 5), (0, 6), (0, 7), (1, 0), (1, 1), (1, 2), (1, 3), (1, 4), (1, 5), (1, 6), (1, 7), (2, 0), (2, 1), (2, 2), (2, 3), (2, 4), (2, 5), (2, 6), (2, 7), (3, 0), (3, 1), (3, 2), (3, 3), (3, 4), (3, 5), (3, 6), (3, 7), (4, 0), (4, 1), (4, 2), (4, 3), (4, 4), (4, 5), (4, 6), (4, 7), (5, 0), (5, 1), (5, 2), (5, 3), (5, 4), (5, 5), (5, 6), (5, 7)]\n",
      "[(0, 0), (0, 1), (0, 2), (0, 3), (0, 4), (0, 5), (1, 1), (1, 2), (1, 3), (1, 6), (2, 0), (2, 1), (2, 2), (2, 3), (2, 5), (3, 1), (3, 2), (3, 3), (3, 4), (3, 6), (4, 0), (4, 1), (4, 2), (4, 3), (4, 4), (4, 5), (4, 6)]\n",
      "[(0, 1), (0, 2), (1, 1), (1, 2), (2, 1), (2, 2), (3, 1), (3, 2), (3, 3)]\n",
      "[(0, 1), (1, 1), (2, 1)]\n",
      "[]\n"
     ]
    }
   ],
   "source": [
    "for arr in final_res:\n",
    "    print(arr)"
   ]
  },
  {
   "cell_type": "code",
   "execution_count": 25,
   "metadata": {},
   "outputs": [
    {
     "name": "stdout",
     "output_type": "stream",
     "text": [
      "[[], [], [], []]\n"
     ]
    }
   ],
   "source": [
    "import numpy as np\n",
    "\n",
    "def find_nxn_subarrays_with_ones(matrix, n):\n",
    "    rows, cols = matrix.shape\n",
    "    dp = np.zeros((rows, cols), dtype=int)\n",
    "    results = []\n",
    "\n",
    "    for i in range(rows):\n",
    "        for j in range(cols):\n",
    "            if matrix[i][j] == 1:\n",
    "                if i == 0 or j == 0:\n",
    "                    dp[i][j] = 1\n",
    "                else:\n",
    "                    dp[i][j] = min(dp[i-1][j], dp[i][j-1], dp[i-1][j-1]) + 1\n",
    "                \n",
    "                # Kiểm tra nếu tồn tại mảng con n x n\n",
    "                if dp[i][j] >= n:\n",
    "                    results.append((i - n + 1, j - n + 1))  # Góc trên bên trái của mảng con\n",
    "\n",
    "    return results\n",
    "\n",
    "# Ma trận đầu vào\n",
    "M = np.array([\n",
    "    [1, 1, 1, 1, 1, 1, 0],\n",
    "    [0, 1, 1, 1, 0, 0, 1],\n",
    "    [1, 1, 1, 1, 0, 1, 0],\n",
    "    [0, 1, 1, 1, 1, 0, 1],\n",
    "    [1, 1, 1, 1, 1, 1, 1]\n",
    "])\n",
    "\n",
    "# Tìm các mảng con 3x3 toàn số 1\n",
    "n = 5\n",
    "res = []\n",
    "for i in range(1, n):\n",
    "    subarrays = find_nxn_subarrays_with_ones(M, n)\n",
    "    res.append(subarrays)\n",
    "\n",
    "print(res)\n",
    "\n",
    "\n"
   ]
  }
 ],
 "metadata": {
  "kernelspec": {
   "display_name": "myenv",
   "language": "python",
   "name": "python3"
  },
  "language_info": {
   "codemirror_mode": {
    "name": "ipython",
    "version": 3
   },
   "file_extension": ".py",
   "mimetype": "text/x-python",
   "name": "python",
   "nbconvert_exporter": "python",
   "pygments_lexer": "ipython3",
   "version": "3.10.12"
  }
 },
 "nbformat": 4,
 "nbformat_minor": 2
}

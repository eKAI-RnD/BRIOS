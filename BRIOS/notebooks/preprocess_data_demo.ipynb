{
 "cells": [
  {
   "cell_type": "markdown",
   "metadata": {},
   "source": [
    "# Get all path to folder "
   ]
  },
  {
   "cell_type": "code",
   "execution_count": 5,
   "metadata": {},
   "outputs": [],
   "source": [
    "import glob \n",
    "import os\n",
    "from tqdm import tqdm"
   ]
  },
  {
   "cell_type": "code",
   "execution_count": 3,
   "metadata": {},
   "outputs": [],
   "source": [
    "root_data_path = '/mnt/storage/huyekgis/brios/datasets/Data4BRIOS'\n",
    "list_area_path = os.listdir(root_data_path)"
   ]
  },
  {
   "cell_type": "code",
   "execution_count": 4,
   "metadata": {},
   "outputs": [
    {
     "data": {
      "text/plain": [
       "['GiaiXuan-TanKy-NgheAn',\n",
       " 'HiepHoa-KinhMon-HaiDuong',\n",
       " 'HoangKhai-YenSon-TuyenQuang',\n",
       " 'HoaTan-KrongBong-DakLak',\n",
       " 'KienBinh-KienLuong-KienGiang',\n",
       " 'MuongThan-ThanUyen-LaiChau',\n",
       " 'NamThai-NamTruc-NamDinh',\n",
       " 'PhuocHau-NinhPhuoc-NinhThuan',\n",
       " 'SonThanh-NhoQuan-NinhBinh',\n",
       " 'TamHiep-ChauThanh-TienGiang']"
      ]
     },
     "execution_count": 4,
     "metadata": {},
     "output_type": "execute_result"
    }
   ],
   "source": [
    "list_area_path"
   ]
  },
  {
   "cell_type": "code",
   "execution_count": 109,
   "metadata": {},
   "outputs": [
    {
     "name": "stderr",
     "output_type": "stream",
     "text": [
      "100%|██████████| 10/10 [00:00<00:00, 10667.10it/s]\n"
     ]
    }
   ],
   "source": [
    "list_folder_ndvi = []\n",
    "list_folder_rvi = []\n",
    "\n",
    "for area in tqdm(list_area_path):\n",
    "    if area == 'HiepHoa-KinhMon-HaiDuong':\n",
    "        continue\n",
    "    list_folder_ndvi.append(glob.glob(f'{os.path.join(root_data_path, area)}/*_ndvi8days'))\n",
    "    list_folder_rvi.append(glob.glob(f'{os.path.join(root_data_path, area)}/*_rvi_8day*'))"
   ]
  },
  {
   "cell_type": "code",
   "execution_count": 110,
   "metadata": {},
   "outputs": [
    {
     "data": {
      "text/plain": [
       "[['/mnt/storage/huyekgis/brios/datasets/Data4BRIOS/GiaiXuan-TanKy-NgheAn/giaixuan_ndvi8days'],\n",
       " ['/mnt/storage/huyekgis/brios/datasets/Data4BRIOS/HoangKhai-YenSon-TuyenQuang/hoangkhai_ndvi8days'],\n",
       " ['/mnt/storage/huyekgis/brios/datasets/Data4BRIOS/HoaTan-KrongBong-DakLak/hoatan_ndvi8days'],\n",
       " ['/mnt/storage/huyekgis/brios/datasets/Data4BRIOS/KienBinh-KienLuong-KienGiang/kienbinh_ndvi8days'],\n",
       " ['/mnt/storage/huyekgis/brios/datasets/Data4BRIOS/MuongThan-ThanUyen-LaiChau/muongthan_ndvi8days'],\n",
       " ['/mnt/storage/huyekgis/brios/datasets/Data4BRIOS/NamThai-NamTruc-NamDinh/namthai_ndvi8days'],\n",
       " ['/mnt/storage/huyekgis/brios/datasets/Data4BRIOS/PhuocHau-NinhPhuoc-NinhThuan/phuochau_ndvi8days'],\n",
       " ['/mnt/storage/huyekgis/brios/datasets/Data4BRIOS/SonThanh-NhoQuan-NinhBinh/sonthanh_ndvi8days'],\n",
       " ['/mnt/storage/huyekgis/brios/datasets/Data4BRIOS/TamHiep-ChauThanh-TienGiang/tamhiep_ndvi8days']]"
      ]
     },
     "execution_count": 110,
     "metadata": {},
     "output_type": "execute_result"
    }
   ],
   "source": [
    "list_folder_ndvi"
   ]
  },
  {
   "cell_type": "code",
   "execution_count": 111,
   "metadata": {},
   "outputs": [
    {
     "data": {
      "text/plain": [
       "[['/mnt/storage/huyekgis/brios/datasets/Data4BRIOS/GiaiXuan-TanKy-NgheAn/giaixuan_rvi_8days'],\n",
       " ['/mnt/storage/huyekgis/brios/datasets/Data4BRIOS/HoangKhai-YenSon-TuyenQuang/hoangkhai_rvi_8days'],\n",
       " ['/mnt/storage/huyekgis/brios/datasets/Data4BRIOS/HoaTan-KrongBong-DakLak/hoatan_rvi_8days'],\n",
       " ['/mnt/storage/huyekgis/brios/datasets/Data4BRIOS/KienBinh-KienLuong-KienGiang/kienbinh_rvi_8days'],\n",
       " ['/mnt/storage/huyekgis/brios/datasets/Data4BRIOS/MuongThan-ThanUyen-LaiChau/muongthan_rvi_8days'],\n",
       " ['/mnt/storage/huyekgis/brios/datasets/Data4BRIOS/NamThai-NamTruc-NamDinh/namthai_rvi_8days'],\n",
       " ['/mnt/storage/huyekgis/brios/datasets/Data4BRIOS/PhuocHau-NinhPhuoc-NinhThuan/phuochau_rvi_8days'],\n",
       " ['/mnt/storage/huyekgis/brios/datasets/Data4BRIOS/SonThanh-NhoQuan-NinhBinh/sonthanh_rvi_8days'],\n",
       " ['/mnt/storage/huyekgis/brios/datasets/Data4BRIOS/TamHiep-ChauThanh-TienGiang/tamhiep_rvi_8days']]"
      ]
     },
     "execution_count": 111,
     "metadata": {},
     "output_type": "execute_result"
    }
   ],
   "source": [
    "list_folder_rvi"
   ]
  },
  {
   "cell_type": "markdown",
   "metadata": {},
   "source": [
    "# Start"
   ]
  },
  {
   "cell_type": "code",
   "execution_count": 32,
   "metadata": {},
   "outputs": [],
   "source": [
    "import os\n",
    "import rasterio\n",
    "import numpy as np\n",
    "from datetime import datetime, timedelta\n",
    "import re"
   ]
  },
  {
   "cell_type": "code",
   "execution_count": 39,
   "metadata": {},
   "outputs": [],
   "source": [
    "# Hàm sinh ngày cách nhau 8 ngày\n",
    "def generate_dates(start_date, end_date, interval_days):\n",
    "    dates = []\n",
    "    current_date = start_date\n",
    "    while current_date <= end_date:\n",
    "        dates.append(current_date)\n",
    "        current_date += timedelta(days=interval_days)\n",
    "    return dates\n",
    "\n",
    "# Hàm trích xuất ngày từ tên file\n",
    "def extract_date(filepath):\n",
    "    match = re.search(r\"\\d{4}-\\d{2}-\\d{2}\", filepath)\n",
    "    if match:\n",
    "        return datetime.strptime(match.group(), '%Y-%m-%d')\n",
    "    return None\n",
    "\n",
    "# Khởi tạo ngày bắt đầu và ngày kết thúc\n",
    "start_date = datetime(2022, 10, 1)\n",
    "end_date = datetime(2023, 10, 1)\n",
    "interval_days = 8\n",
    "\n",
    "def get_missing_date_list(directory):\n",
    "    # Tạo danh sách các ngày cần có\n",
    "    expected_dates = generate_dates(start_date, end_date, interval_days)\n",
    "\n",
    "    # Lấy danh sách các ngày thực tế có trong thư mục\n",
    "    actual_dates = []\n",
    "    for filename in os.listdir(directory):\n",
    "        filepath = os.path.join(directory, filename)\n",
    "        date = extract_date(filepath)\n",
    "        if date:\n",
    "            actual_dates.append(date)\n",
    "\n",
    "    # Tìm các ngày bị thiếu\n",
    "    missing_dates = [date.strftime('%Y-%m-%d') for date in expected_dates if date not in actual_dates]\n",
    "    \n",
    "    return missing_dates"
   ]
  },
  {
   "cell_type": "code",
   "execution_count": 83,
   "metadata": {},
   "outputs": [],
   "source": [
    "def to_timeseries_ndvi_image(folder_path):\n",
    "    # Folder path containing .tif files\n",
    "    folder_name = folder_path.split('/')[-1]\n",
    "    # Dates with no data\n",
    "    missing_dates = get_missing_date_list(folder_path)\n",
    "    missing_dates = set(missing_dates)  # Convert to set for quick lookups\n",
    "\n",
    "    # List of all available dates\n",
    "    available_files = [f for f in os.listdir(folder_path) if f.endswith('.tif')]\n",
    "\n",
    "    # Check raster dimensions from a sample file\n",
    "    with rasterio.open(os.path.join(folder_path, available_files[0])) as src:\n",
    "        height, width = src.shape\n",
    "\n",
    "    # Initialize list to hold time series data\n",
    "    time_series = []\n",
    "\n",
    "    # Generate the complete list of dates, assuming an 8-day interval\n",
    "    start_date = '2022-10-01'\n",
    "    end_date = '2023-09-26'\n",
    "    current_date = datetime.strptime(start_date, '%Y-%m-%d')\n",
    "    end_date = datetime.strptime(end_date, '%Y-%m-%d')\n",
    "    \n",
    "    while current_date <= end_date:\n",
    "        date_str = current_date.strftime(\"%Y-%m-%d\")\n",
    "        file_path = os.path.join(folder_path, f\"{folder_name}_{date_str}.tif\")\n",
    "        \n",
    "        if date_str in missing_dates or not os.path.exists(file_path):\n",
    "            # Append a null array for missing dates\n",
    "            null_array = np.full((height, width), np.nan)\n",
    "            time_series.append(null_array)\n",
    "        else:\n",
    "            # Read and store data for available dates\n",
    "            with rasterio.open(file_path) as src:\n",
    "                time_series.append(src.read(1))  # Reads the first band\n",
    "\n",
    "        # Increment by 8 days\n",
    "        current_date += timedelta(days=8)\n",
    "\n",
    "    # Stack along the time dimension, then transpose to (x, y, time)\n",
    "    ndvi_data = np.stack(time_series, axis=0).transpose(1, 2, 0)\n",
    "\n",
    "    # Save as .npy file\n",
    "    if os.path.exists('/mnt/storage/huyekgis/brios/datasets/preData/ndvi_npy/'):\n",
    "        output_path = f\"/mnt/storage/huyekgis/brios/datasets/preData/ndvi_npy/{folder_name}.npy\"\n",
    "        np.save(output_path, ndvi_data)\n",
    "        print(f\"Data saved to {output_path}\")\n",
    "    else:\n",
    "        os.mkdir('/mnt/storage/huyekgis/brios/datasets/preData/ndvi_npy/')\n",
    "\n",
    "    \n"
   ]
  },
  {
   "cell_type": "code",
   "execution_count": 84,
   "metadata": {},
   "outputs": [],
   "source": [
    "def save_all_ndvi_npy(list_folder):\n",
    "    print('Start Saving: ')\n",
    "    for folder in tqdm(list_folder, desc=f'Save NDVI tif to npy: '):\n",
    "        to_timeseries_ndvi_image(folder[0])\n",
    "    print('Done!!!!')"
   ]
  },
  {
   "cell_type": "code",
   "execution_count": 85,
   "metadata": {},
   "outputs": [
    {
     "name": "stdout",
     "output_type": "stream",
     "text": [
      "Start Saving: \n"
     ]
    },
    {
     "name": "stderr",
     "output_type": "stream",
     "text": [
      "Save NDVI tif to npy:  11%|█         | 1/9 [00:04<00:33,  4.16s/it]"
     ]
    },
    {
     "name": "stdout",
     "output_type": "stream",
     "text": [
      "Data saved to /mnt/storage/huyekgis/brios/datasets/preData/ndvi_npy/giaixuan_ndvi8days.npy\n"
     ]
    },
    {
     "name": "stderr",
     "output_type": "stream",
     "text": [
      "Save NDVI tif to npy:  22%|██▏       | 2/9 [00:04<00:15,  2.19s/it]"
     ]
    },
    {
     "name": "stdout",
     "output_type": "stream",
     "text": [
      "Data saved to /mnt/storage/huyekgis/brios/datasets/preData/ndvi_npy/hoangkhai_ndvi8days.npy\n"
     ]
    },
    {
     "name": "stderr",
     "output_type": "stream",
     "text": [
      "Save NDVI tif to npy:  33%|███▎      | 3/9 [00:06<00:10,  1.76s/it]"
     ]
    },
    {
     "name": "stdout",
     "output_type": "stream",
     "text": [
      "Data saved to /mnt/storage/huyekgis/brios/datasets/preData/ndvi_npy/hoatan_ndvi8days.npy\n"
     ]
    },
    {
     "name": "stderr",
     "output_type": "stream",
     "text": [
      "Save NDVI tif to npy:  44%|████▍     | 4/9 [00:17<00:27,  5.45s/it]"
     ]
    },
    {
     "name": "stdout",
     "output_type": "stream",
     "text": [
      "Data saved to /mnt/storage/huyekgis/brios/datasets/preData/ndvi_npy/kienbinh_ndvi8days.npy\n"
     ]
    },
    {
     "name": "stderr",
     "output_type": "stream",
     "text": [
      "Save NDVI tif to npy:  56%|█████▌    | 5/9 [00:20<00:18,  4.61s/it]"
     ]
    },
    {
     "name": "stdout",
     "output_type": "stream",
     "text": [
      "Data saved to /mnt/storage/huyekgis/brios/datasets/preData/ndvi_npy/muongthan_ndvi8days.npy\n"
     ]
    },
    {
     "name": "stderr",
     "output_type": "stream",
     "text": [
      "Save NDVI tif to npy:  67%|██████▋   | 6/9 [00:21<00:10,  3.39s/it]"
     ]
    },
    {
     "name": "stdout",
     "output_type": "stream",
     "text": [
      "Data saved to /mnt/storage/huyekgis/brios/datasets/preData/ndvi_npy/namthai_ndvi8days.npy\n"
     ]
    },
    {
     "name": "stderr",
     "output_type": "stream",
     "text": [
      "Save NDVI tif to npy:  78%|███████▊  | 7/9 [00:22<00:05,  2.54s/it]"
     ]
    },
    {
     "name": "stdout",
     "output_type": "stream",
     "text": [
      "Data saved to /mnt/storage/huyekgis/brios/datasets/preData/ndvi_npy/phuochau_ndvi8days.npy\n"
     ]
    },
    {
     "name": "stderr",
     "output_type": "stream",
     "text": [
      "Save NDVI tif to npy:  89%|████████▉ | 8/9 [00:22<00:01,  1.86s/it]"
     ]
    },
    {
     "name": "stdout",
     "output_type": "stream",
     "text": [
      "Data saved to /mnt/storage/huyekgis/brios/datasets/preData/ndvi_npy/sonthanh_ndvi8days.npy\n"
     ]
    },
    {
     "name": "stderr",
     "output_type": "stream",
     "text": [
      "Save NDVI tif to npy: 100%|██████████| 9/9 [00:25<00:00,  2.83s/it]"
     ]
    },
    {
     "name": "stdout",
     "output_type": "stream",
     "text": [
      "Data saved to /mnt/storage/huyekgis/brios/datasets/preData/ndvi_npy/tamhiep_ndvi8days.npy\n",
      "Done!!!!\n"
     ]
    },
    {
     "name": "stderr",
     "output_type": "stream",
     "text": [
      "\n"
     ]
    }
   ],
   "source": [
    "save_all_ndvi_npy(list_folder_ndvi)"
   ]
  },
  {
   "cell_type": "code",
   "execution_count": 112,
   "metadata": {},
   "outputs": [],
   "source": [
    "def to_timeseries_rvi_image(folder_path):\n",
    "    folder_name = folder_path.split('/')[-1]\n",
    "\n",
    "    # Initialize lists to hold RVI and VH time series data\n",
    "    rvi_time_series = []\n",
    "    vh_time_series = []\n",
    "\n",
    "    # Read and store RVI and VH data from each file\n",
    "    for file_name in os.listdir(folder_path):\n",
    "        file_path = os.path.join(folder_path, file_name)\n",
    "        with rasterio.open(file_path) as src:\n",
    "            # Append the first band for RVI data\n",
    "            rvi_time_series.append(src.read(1))  # RVI is in band 1\n",
    "            # Append the second band for VH data\n",
    "            vh_time_series.append(src.read(2))  # VH is in band 2\n",
    "\n",
    "    # Stack along the time dimension and transpose to (x, y, time)\n",
    "    rvi_data = np.stack(rvi_time_series, axis=0).transpose(1, 2, 0)\n",
    "    vh_data = np.stack(vh_time_series, axis=0).transpose(1, 2, 0)\n",
    "\n",
    "    print(f\"rvi: {rvi_data.shape}\")\n",
    "    print(f\"vh: {vh_data.shape}\")\n",
    "\n",
    "    if os.path.exists('/mnt/storage/huyekgis/brios/datasets/preData/rvi_npy'): \n",
    "        rvi_output_path = f\"/mnt/storage/huyekgis/brios/datasets/preData/rvi_npy/{folder_name}.npy\"\n",
    "        np.save(rvi_output_path, rvi_data)\n",
    "        print(f\"RVI saved to {rvi_output_path}\")\n",
    "    else:\n",
    "        os.makedirs('/mnt/storage/huyekgis/brios/datasets/preData/rvi_npy')    \n",
    "    \n",
    "    if os.path.exists('/mnt/storage/huyekgis/brios/datasets/preData/vh_npy'):\n",
    "        vh_output_path = f\"/mnt/storage/huyekgis/brios/datasets/preData/vh_npy/{folder_name}.npy\"\n",
    "        np.save(vh_output_path, vh_data)\n",
    "        print(f\"VH saved to {vh_output_path}\")\n",
    "    else:\n",
    "        os.makedirs('/mnt/storage/huyekgis/brios/datasets/preData/vh_npy')  "
   ]
  },
  {
   "cell_type": "code",
   "execution_count": 113,
   "metadata": {},
   "outputs": [],
   "source": [
    "def save_all_sar_npy(list_folder):\n",
    "    print('Start Saving: ')\n",
    "    for folder in tqdm(list_folder, desc=f'Save SAR tif to npy: '):\n",
    "        to_timeseries_rvi_image(folder[0])\n",
    "    print('Done!!!!')"
   ]
  },
  {
   "cell_type": "code",
   "execution_count": 114,
   "metadata": {},
   "outputs": [
    {
     "name": "stdout",
     "output_type": "stream",
     "text": [
      "Start Saving: \n"
     ]
    },
    {
     "name": "stderr",
     "output_type": "stream",
     "text": [
      "Save SAR tif to npy:   0%|          | 0/9 [00:00<?, ?it/s]"
     ]
    },
    {
     "name": "stdout",
     "output_type": "stream",
     "text": [
      "rvi: (1021, 1263, 46)\n",
      "vh: (1021, 1263, 46)\n",
      "RVI saved to /mnt/storage/huyekgis/brios/datasets/preData/rvi_npy/giaixuan_rvi_8days.npy\n"
     ]
    },
    {
     "name": "stderr",
     "output_type": "stream",
     "text": [
      "Save SAR tif to npy:  11%|█         | 1/9 [00:11<01:30, 11.34s/it]"
     ]
    },
    {
     "name": "stdout",
     "output_type": "stream",
     "text": [
      "VH saved to /mnt/storage/huyekgis/brios/datasets/preData/vh_npy/giaixuan_rvi_8days.npy\n",
      "rvi: (505, 497, 46)\n",
      "vh: (505, 497, 46)\n",
      "RVI saved to /mnt/storage/huyekgis/brios/datasets/preData/rvi_npy/hoangkhai_rvi_8days.npy\n"
     ]
    },
    {
     "name": "stderr",
     "output_type": "stream",
     "text": [
      "Save SAR tif to npy:  22%|██▏       | 2/9 [00:13<00:41,  5.98s/it]"
     ]
    },
    {
     "name": "stdout",
     "output_type": "stream",
     "text": [
      "VH saved to /mnt/storage/huyekgis/brios/datasets/preData/vh_npy/hoangkhai_rvi_8days.npy\n",
      "rvi: (603, 849, 43)\n",
      "vh: (603, 849, 43)\n",
      "RVI saved to /mnt/storage/huyekgis/brios/datasets/preData/rvi_npy/hoatan_rvi_8days.npy\n"
     ]
    },
    {
     "name": "stderr",
     "output_type": "stream",
     "text": [
      "Save SAR tif to npy:  33%|███▎      | 3/9 [00:17<00:31,  5.19s/it]"
     ]
    },
    {
     "name": "stdout",
     "output_type": "stream",
     "text": [
      "VH saved to /mnt/storage/huyekgis/brios/datasets/preData/vh_npy/hoatan_rvi_8days.npy\n",
      "rvi: (1945, 1722, 46)\n",
      "vh: (1945, 1722, 46)\n",
      "RVI saved to /mnt/storage/huyekgis/brios/datasets/preData/rvi_npy/kienbinh_rvi_8days.npy\n"
     ]
    },
    {
     "name": "stderr",
     "output_type": "stream",
     "text": [
      "Save SAR tif to npy:  44%|████▍     | 4/9 [01:57<03:33, 42.65s/it]"
     ]
    },
    {
     "name": "stdout",
     "output_type": "stream",
     "text": [
      "VH saved to /mnt/storage/huyekgis/brios/datasets/preData/vh_npy/kienbinh_rvi_8days.npy\n",
      "rvi: (709, 1418, 37)\n",
      "vh: (709, 1418, 37)\n",
      "RVI saved to /mnt/storage/huyekgis/brios/datasets/preData/rvi_npy/muongthan_rvi_8days.npy\n"
     ]
    },
    {
     "name": "stderr",
     "output_type": "stream",
     "text": [
      "Save SAR tif to npy:  56%|█████▌    | 5/9 [02:38<02:48, 42.05s/it]"
     ]
    },
    {
     "name": "stdout",
     "output_type": "stream",
     "text": [
      "VH saved to /mnt/storage/huyekgis/brios/datasets/preData/vh_npy/muongthan_rvi_8days.npy\n",
      "rvi: (375, 516, 46)\n",
      "vh: (375, 516, 46)\n",
      "RVI saved to /mnt/storage/huyekgis/brios/datasets/preData/rvi_npy/namthai_rvi_8days.npy\n"
     ]
    },
    {
     "name": "stderr",
     "output_type": "stream",
     "text": [
      "Save SAR tif to npy:  67%|██████▋   | 6/9 [02:49<01:33, 31.31s/it]"
     ]
    },
    {
     "name": "stdout",
     "output_type": "stream",
     "text": [
      "VH saved to /mnt/storage/huyekgis/brios/datasets/preData/vh_npy/namthai_rvi_8days.npy\n",
      "rvi: (544, 548, 46)\n",
      "vh: (544, 548, 46)\n",
      "RVI saved to /mnt/storage/huyekgis/brios/datasets/preData/rvi_npy/phuochau_rvi_8days.npy\n"
     ]
    },
    {
     "name": "stderr",
     "output_type": "stream",
     "text": [
      "Save SAR tif to npy:  78%|███████▊  | 7/9 [03:07<00:53, 26.90s/it]"
     ]
    },
    {
     "name": "stdout",
     "output_type": "stream",
     "text": [
      "VH saved to /mnt/storage/huyekgis/brios/datasets/preData/vh_npy/phuochau_rvi_8days.npy\n",
      "rvi: (362, 295, 46)\n",
      "vh: (362, 295, 46)\n",
      "RVI saved to /mnt/storage/huyekgis/brios/datasets/preData/rvi_npy/sonthanh_rvi_8days.npy\n"
     ]
    },
    {
     "name": "stderr",
     "output_type": "stream",
     "text": [
      "Save SAR tif to npy:  89%|████████▉ | 8/9 [03:13<00:20, 20.37s/it]"
     ]
    },
    {
     "name": "stdout",
     "output_type": "stream",
     "text": [
      "VH saved to /mnt/storage/huyekgis/brios/datasets/preData/vh_npy/sonthanh_rvi_8days.npy\n",
      "rvi: (585, 572, 46)\n",
      "vh: (585, 572, 46)\n",
      "RVI saved to /mnt/storage/huyekgis/brios/datasets/preData/rvi_npy/tamhiep_rvi_8days.npy\n"
     ]
    },
    {
     "name": "stderr",
     "output_type": "stream",
     "text": [
      "Save SAR tif to npy: 100%|██████████| 9/9 [03:26<00:00, 22.94s/it]"
     ]
    },
    {
     "name": "stdout",
     "output_type": "stream",
     "text": [
      "VH saved to /mnt/storage/huyekgis/brios/datasets/preData/vh_npy/tamhiep_rvi_8days.npy\n",
      "Done!!!!\n"
     ]
    },
    {
     "name": "stderr",
     "output_type": "stream",
     "text": [
      "\n"
     ]
    }
   ],
   "source": [
    "save_all_sar_npy(list_folder_rvi)"
   ]
  },
  {
   "cell_type": "code",
   "execution_count": 115,
   "metadata": {},
   "outputs": [],
   "source": [
    "ndvi_npy_path = '/mnt/storage/huyekgis/brios/datasets/preData/ndvi_npy'\n",
    "rvi_npy_path = '/mnt/storage/huyekgis/brios/datasets/preData/rvi_npy'\n",
    "vh_npy_path = '/mnt/storage/huyekgis/brios/datasets/preData/vh_npy'"
   ]
  },
  {
   "cell_type": "code",
   "execution_count": 116,
   "metadata": {},
   "outputs": [],
   "source": [
    "list_path_ndvi_npy = [os.path.join(ndvi_npy_path, filename) for filename in os.listdir(ndvi_npy_path)]\n",
    "list_path_rvi_npy = [os.path.join(rvi_npy_path, filename) for filename in os.listdir(rvi_npy_path)]\n",
    "list_path_vh_npy = [os.path.join(vh_npy_path, filename) for filename in os.listdir(vh_npy_path)]"
   ]
  },
  {
   "cell_type": "code",
   "execution_count": 117,
   "metadata": {},
   "outputs": [
    {
     "data": {
      "text/plain": [
       "['/mnt/storage/huyekgis/brios/datasets/preData/ndvi_npy/giaixuan_ndvi8days.npy',\n",
       " '/mnt/storage/huyekgis/brios/datasets/preData/ndvi_npy/hoangkhai_ndvi8days.npy',\n",
       " '/mnt/storage/huyekgis/brios/datasets/preData/ndvi_npy/kienbinh_ndvi8days.npy',\n",
       " '/mnt/storage/huyekgis/brios/datasets/preData/ndvi_npy/namthai_ndvi8days.npy',\n",
       " '/mnt/storage/huyekgis/brios/datasets/preData/ndvi_npy/phuochau_ndvi8days.npy',\n",
       " '/mnt/storage/huyekgis/brios/datasets/preData/ndvi_npy/sonthanh_ndvi8days.npy',\n",
       " '/mnt/storage/huyekgis/brios/datasets/preData/ndvi_npy/tamhiep_ndvi8days.npy']"
      ]
     },
     "execution_count": 117,
     "metadata": {},
     "output_type": "execute_result"
    }
   ],
   "source": [
    "list_path_ndvi_npy"
   ]
  },
  {
   "cell_type": "code",
   "execution_count": 120,
   "metadata": {},
   "outputs": [],
   "source": [
    "def reshape_and_stack(list_path):\n",
    "    total_array = []\n",
    "    for path in tqdm(list_path,desc='Reshape: '):\n",
    "        array = np.load(path)\n",
    "        array = array.reshape((array.shape[0] * array.shape[1], array.shape[2]))\n",
    "        total_array.append(array)\n",
    "    total_array = np.vstack(total_array)\n",
    "    print(total_array.shape)\n",
    "    return total_array"
   ]
  },
  {
   "cell_type": "code",
   "execution_count": 121,
   "metadata": {},
   "outputs": [
    {
     "name": "stderr",
     "output_type": "stream",
     "text": [
      "Reshape: 100%|██████████| 7/7 [00:01<00:00,  6.86it/s]\n"
     ]
    },
    {
     "name": "stdout",
     "output_type": "stream",
     "text": [
      "(5822820, 46)\n"
     ]
    }
   ],
   "source": [
    "ndvi_data = reshape_and_stack(list_path_ndvi_npy)"
   ]
  },
  {
   "cell_type": "code",
   "execution_count": 122,
   "metadata": {},
   "outputs": [
    {
     "name": "stderr",
     "output_type": "stream",
     "text": [
      "Reshape: 100%|██████████| 7/7 [00:29<00:00,  4.23s/it]\n"
     ]
    },
    {
     "name": "stdout",
     "output_type": "stream",
     "text": [
      "(5822820, 46)\n"
     ]
    }
   ],
   "source": [
    "rvi_data = reshape_and_stack(list_path_rvi_npy)"
   ]
  },
  {
   "cell_type": "code",
   "execution_count": 123,
   "metadata": {},
   "outputs": [
    {
     "name": "stderr",
     "output_type": "stream",
     "text": [
      "Reshape: 100%|██████████| 7/7 [00:24<00:00,  3.52s/it]\n"
     ]
    },
    {
     "name": "stdout",
     "output_type": "stream",
     "text": [
      "(5822820, 46)\n"
     ]
    }
   ],
   "source": [
    "vh_data = reshape_and_stack(list_path_vh_npy)"
   ]
  },
  {
   "cell_type": "markdown",
   "metadata": {},
   "source": [
    "# Make cloudMask\n",
    "- `ndvi_data[i]` == `np.nan` => have cloud\n",
    "- `cloudMask[i] = 0`: no cloud \n",
    "- `cloudMask[i]` = 1: cloud"
   ]
  },
  {
   "cell_type": "code",
   "execution_count": 124,
   "metadata": {},
   "outputs": [],
   "source": [
    "cloudMask = np.zeros(ndvi_data.shape)"
   ]
  },
  {
   "cell_type": "code",
   "execution_count": 125,
   "metadata": {},
   "outputs": [
    {
     "data": {
      "text/plain": [
       "(5822820, 46)"
      ]
     },
     "execution_count": 125,
     "metadata": {},
     "output_type": "execute_result"
    }
   ],
   "source": [
    "cloudMask.shape"
   ]
  },
  {
   "cell_type": "code",
   "execution_count": 126,
   "metadata": {},
   "outputs": [],
   "source": [
    "for series_index in range(ndvi_data.shape[0]):\n",
    "    for time_step in range(ndvi_data.shape[1]):\n",
    "        if np.isnan(ndvi_data[series_index, time_step]):\n",
    "            cloudMask[series_index, time_step] = 1"
   ]
  },
  {
   "cell_type": "markdown",
   "metadata": {},
   "source": [
    "# Make mask valid data (data can be used for training)\n",
    "- data_num: count the number of observations without cloud in each series"
   ]
  },
  {
   "cell_type": "code",
   "execution_count": 127,
   "metadata": {},
   "outputs": [],
   "source": [
    "data_num = np.full(ndvi_data.shape[0], ndvi_data.shape[1])"
   ]
  },
  {
   "cell_type": "code",
   "execution_count": 128,
   "metadata": {},
   "outputs": [
    {
     "data": {
      "text/plain": [
       "(5822820,)"
      ]
     },
     "execution_count": 128,
     "metadata": {},
     "output_type": "execute_result"
    }
   ],
   "source": [
    "data_num.shape"
   ]
  },
  {
   "cell_type": "code",
   "execution_count": 129,
   "metadata": {},
   "outputs": [
    {
     "name": "stderr",
     "output_type": "stream",
     "text": [
      "100%|██████████| 5822820/5822820 [00:15<00:00, 366588.26it/s]\n"
     ]
    }
   ],
   "source": [
    "for series_index in tqdm(range(cloudMask.shape[0])):\n",
    "    num_ones = len(np.argwhere(cloudMask[series_index] == 1))\n",
    "    data_num[series_index] -= num_ones"
   ]
  },
  {
   "cell_type": "code",
   "execution_count": 130,
   "metadata": {},
   "outputs": [
    {
     "data": {
      "text/plain": [
       "array([ 0,  0,  0, ..., 27, 27, 27])"
      ]
     },
     "execution_count": 130,
     "metadata": {},
     "output_type": "execute_result"
    }
   ],
   "source": [
    "data_num"
   ]
  },
  {
   "cell_type": "code",
   "execution_count": 131,
   "metadata": {},
   "outputs": [],
   "source": [
    "valid_with_data_num = np.argwhere(data_num >= 25)"
   ]
  },
  {
   "cell_type": "code",
   "execution_count": 132,
   "metadata": {},
   "outputs": [
    {
     "data": {
      "text/plain": [
       "array([[   1263],\n",
       "       [   1264],\n",
       "       [   1265],\n",
       "       ...,\n",
       "       [5822817],\n",
       "       [5822818],\n",
       "       [5822819]])"
      ]
     },
     "execution_count": 132,
     "metadata": {},
     "output_type": "execute_result"
    }
   ],
   "source": [
    "valid_with_data_num"
   ]
  },
  {
   "cell_type": "code",
   "execution_count": 133,
   "metadata": {},
   "outputs": [
    {
     "data": {
      "text/plain": [
       "(5822820, 46)"
      ]
     },
     "execution_count": 133,
     "metadata": {},
     "output_type": "execute_result"
    }
   ],
   "source": [
    "rvi_data.shape"
   ]
  },
  {
   "cell_type": "markdown",
   "metadata": {},
   "source": [
    "mask sar\n",
    "- 1: unvalid (sar get nan) \n",
    "- 0: valid (fully data)"
   ]
  },
  {
   "cell_type": "code",
   "execution_count": 134,
   "metadata": {},
   "outputs": [],
   "source": [
    "unvalid_rvi = np.where(np.isnan(rvi_data).any(axis=1), 1, 0)"
   ]
  },
  {
   "cell_type": "code",
   "execution_count": 135,
   "metadata": {},
   "outputs": [],
   "source": [
    "unvalid_vh = np.where(np.isnan(vh_data).any(axis=1), 1, 0)"
   ]
  },
  {
   "cell_type": "code",
   "execution_count": 136,
   "metadata": {},
   "outputs": [],
   "source": [
    "\n",
    "combined_mask = np.where(np.logical_or(unvalid_rvi == 1, unvalid_vh == 1), 1, 0)"
   ]
  },
  {
   "cell_type": "markdown",
   "metadata": {},
   "source": [
    "make mask Train"
   ]
  },
  {
   "cell_type": "code",
   "execution_count": 137,
   "metadata": {},
   "outputs": [],
   "source": [
    "index_for_train = np.where((data_num >= 25) & (combined_mask == 0))[0]"
   ]
  },
  {
   "cell_type": "code",
   "execution_count": 138,
   "metadata": {},
   "outputs": [],
   "source": [
    "def choose_data_validate(arr_index, valid_ratio = 0.1):\n",
    "    num_valid = max(1, int(valid_ratio * len(arr_index)))\n",
    "    index_for_valid = np.random.choice(arr_index, num_valid, replace=False)\n",
    "    return index_for_valid"
   ]
  },
  {
   "cell_type": "code",
   "execution_count": 140,
   "metadata": {},
   "outputs": [
    {
     "data": {
      "text/plain": [
       "4109071"
      ]
     },
     "execution_count": 140,
     "metadata": {},
     "output_type": "execute_result"
    }
   ],
   "source": [
    "len(index_for_train)"
   ]
  },
  {
   "cell_type": "code",
   "execution_count": 141,
   "metadata": {},
   "outputs": [],
   "source": [
    "cloudMask0 = cloudMask"
   ]
  },
  {
   "cell_type": "code",
   "execution_count": 142,
   "metadata": {},
   "outputs": [
    {
     "data": {
      "text/plain": [
       "array([], dtype=int64)"
      ]
     },
     "execution_count": 142,
     "metadata": {},
     "output_type": "execute_result"
    }
   ],
   "source": [
    "np.where(cloudMask[942] == 0)[0]"
   ]
  },
  {
   "cell_type": "code",
   "execution_count": 143,
   "metadata": {},
   "outputs": [
    {
     "name": "stderr",
     "output_type": "stream",
     "text": [
      "100%|██████████| 4109071/4109071 [00:29<00:00, 137996.21it/s]\n"
     ]
    }
   ],
   "source": [
    "for series_index in tqdm(index_for_train):\n",
    "    uncloud_index = np.where(cloudMask0[series_index] == 0)[0]\n",
    "    fakecloud_index = choose_data_validate(uncloud_index)\n",
    "    cloudMask0[series_index, fakecloud_index] = 2"
   ]
  },
  {
   "cell_type": "code",
   "execution_count": 144,
   "metadata": {},
   "outputs": [
    {
     "data": {
      "text/plain": [
       "array([1., 1., 1., 0., 2., 0., 1., 1., 1., 0., 0., 1., 1., 0., 0., 0., 0.,\n",
       "       0., 1., 1., 1., 1., 1., 0., 0., 0., 1., 1., 0., 2., 0., 0., 0., 1.,\n",
       "       0., 0., 0., 1., 1., 0., 0., 0., 0., 1., 1., 1.])"
      ]
     },
     "execution_count": 144,
     "metadata": {},
     "output_type": "execute_result"
    }
   ],
   "source": [
    "cloudMask0[159795]"
   ]
  },
  {
   "cell_type": "code",
   "execution_count": 145,
   "metadata": {},
   "outputs": [],
   "source": [
    "ndvi_input = ndvi_data[index_for_train]\n",
    "rvi_input = rvi_data[index_for_train]\n",
    "vh_input = vh_data[index_for_train]"
   ]
  },
  {
   "cell_type": "code",
   "execution_count": 157,
   "metadata": {},
   "outputs": [],
   "source": [
    "del ndvi_data, rvi_data, vh_data"
   ]
  },
  {
   "cell_type": "code",
   "execution_count": 146,
   "metadata": {},
   "outputs": [],
   "source": [
    "cloudmask_input = cloudMask0[index_for_train]"
   ]
  },
  {
   "cell_type": "code",
   "execution_count": 147,
   "metadata": {},
   "outputs": [
    {
     "data": {
      "text/plain": [
       "array([0., 0., 1., 1., 0., 0., 1., 0., 0., 0., 0., 1., 1., 0., 0., 1., 0.,\n",
       "       0., 1., 1., 1., 1., 1., 0., 0., 0., 1., 1., 0., 0., 0., 2., 0., 1.,\n",
       "       0., 0., 2., 1., 1., 0., 0., 0., 0., 1., 1., 1.])"
      ]
     },
     "execution_count": 147,
     "metadata": {},
     "output_type": "execute_result"
    }
   ],
   "source": [
    "cloudmask_input[0]"
   ]
  },
  {
   "cell_type": "code",
   "execution_count": 148,
   "metadata": {},
   "outputs": [
    {
     "data": {
      "text/plain": [
       "array([0.76163453, 0.76163453,        nan,        nan, 0.65621233,\n",
       "       0.65621233,        nan, 0.71801722, 0.71801722, 0.71864778,\n",
       "       0.71864778,        nan,        nan, 0.7306273 , 0.7306273 ,\n",
       "              nan, 0.45884773, 0.45884773,        nan,        nan,\n",
       "              nan,        nan,        nan, 0.35788894, 0.32813439,\n",
       "       0.29240924,        nan,        nan, 0.5175097 , 0.57256931,\n",
       "       0.62412149, 0.63536918, 0.70352739,        nan, 0.74595642,\n",
       "       0.74808127, 0.80399621,        nan,        nan, 0.87125093,\n",
       "       0.88269478, 0.87808764, 0.85847795,        nan,        nan,\n",
       "              nan])"
      ]
     },
     "execution_count": 148,
     "metadata": {},
     "output_type": "execute_result"
    }
   ],
   "source": [
    "ndvi_input[0]"
   ]
  },
  {
   "cell_type": "code",
   "execution_count": 149,
   "metadata": {},
   "outputs": [],
   "source": [
    "mask_train = np.where(cloudmask_input == 0, 1, 0)\n",
    "mask_eval = np.where(cloudmask_input == 2, 1, 0)"
   ]
  },
  {
   "cell_type": "code",
   "execution_count": 150,
   "metadata": {},
   "outputs": [
    {
     "data": {
      "text/plain": [
       "array([1, 1, 0, 0, 1, 1, 0, 1, 1, 1, 1, 0, 0, 1, 1, 0, 1, 1, 0, 0, 0, 0,\n",
       "       0, 1, 1, 1, 0, 0, 1, 1, 1, 0, 1, 0, 1, 1, 0, 0, 0, 1, 1, 1, 1, 0,\n",
       "       0, 0])"
      ]
     },
     "execution_count": 150,
     "metadata": {},
     "output_type": "execute_result"
    }
   ],
   "source": [
    "mask_train[0]"
   ]
  },
  {
   "cell_type": "code",
   "execution_count": 151,
   "metadata": {},
   "outputs": [
    {
     "data": {
      "text/plain": [
       "array([0, 0, 0, 0, 0, 0, 0, 0, 0, 0, 0, 0, 0, 0, 0, 0, 0, 0, 0, 0, 0, 0,\n",
       "       0, 0, 0, 0, 0, 0, 0, 0, 0, 1, 0, 0, 0, 0, 1, 0, 0, 0, 0, 0, 0, 0,\n",
       "       0, 0])"
      ]
     },
     "execution_count": 151,
     "metadata": {},
     "output_type": "execute_result"
    }
   ],
   "source": [
    "mask_eval[0]"
   ]
  },
  {
   "cell_type": "code",
   "execution_count": 152,
   "metadata": {},
   "outputs": [],
   "source": [
    "input_data = np.stack([rvi_input, vh_input, ndvi_input], axis=1)"
   ]
  },
  {
   "cell_type": "code",
   "execution_count": 153,
   "metadata": {},
   "outputs": [
    {
     "data": {
      "text/plain": [
       "(4109071, 3, 46)"
      ]
     },
     "execution_count": 153,
     "metadata": {},
     "output_type": "execute_result"
    }
   ],
   "source": [
    "input_data.shape"
   ]
  },
  {
   "cell_type": "code",
   "execution_count": 154,
   "metadata": {},
   "outputs": [
    {
     "data": {
      "text/plain": [
       "array([0.76163453, 0.76163453,        nan,        nan, 0.65621233,\n",
       "       0.65621233,        nan, 0.71801722, 0.71801722, 0.71864778,\n",
       "       0.71864778,        nan,        nan, 0.7306273 , 0.7306273 ,\n",
       "              nan, 0.45884773, 0.45884773,        nan,        nan,\n",
       "              nan,        nan,        nan, 0.35788894, 0.32813439,\n",
       "       0.29240924,        nan,        nan, 0.5175097 , 0.57256931,\n",
       "       0.62412149, 0.63536918, 0.70352739,        nan, 0.74595642,\n",
       "       0.74808127, 0.80399621,        nan,        nan, 0.87125093,\n",
       "       0.88269478, 0.87808764, 0.85847795,        nan,        nan,\n",
       "              nan])"
      ]
     },
     "execution_count": 154,
     "metadata": {},
     "output_type": "execute_result"
    }
   ],
   "source": [
    "input_data[0,2,:]"
   ]
  },
  {
   "cell_type": "markdown",
   "metadata": {},
   "source": [
    "have dataset contains: \n",
    "- input data: [rvi, vh, ndvi] (n_series, n_features, n_timesteps)\n",
    "- mask_train: 1 => training, 0 => no\n",
    "- mask_eval: 1 => validating, 0 => no"
   ]
  },
  {
   "cell_type": "markdown",
   "metadata": {},
   "source": [
    "Create delta"
   ]
  },
  {
   "cell_type": "code",
   "execution_count": 155,
   "metadata": {},
   "outputs": [],
   "source": [
    "def cal_timestep(time, mask):\n",
    "    \"\"\"calculate timestep (between step t to step t-i nearest without cloud)\n",
    "\n",
    "    Args:\n",
    "        time (_type_): _description_\n",
    "        mask (_type_): _description_\n",
    "\n",
    "    Returns:\n",
    "        deltaT: timestep\n",
    "    \"\"\"\n",
    "    deltaT = time.copy()\n",
    "    for i in range(len(time)):\n",
    "        T_time0 = time[i]\n",
    "        if i != 0:\n",
    "            for k in range(i - 1, -1, -1):\n",
    "                T_time1 = time[k]\n",
    "                if mask[k] == 1:\n",
    "                    T_time1 = time[k]\n",
    "                    break\n",
    "\n",
    "            T = T_time0-T_time1\n",
    "        else:\n",
    "            T = 0\n",
    "\n",
    "        deltaT[i] = T\n",
    "\n",
    "    return deltaT"
   ]
  },
  {
   "cell_type": "code",
   "execution_count": null,
   "metadata": {},
   "outputs": [],
   "source": [
    "feature_num = 3\n",
    "time = np.arange(1,369,8)\n",
    "deltaT_forward = np.zeros((len(index_for_train), 46))\n",
    "for i in tqdm(range(len(index_for_train))):\n",
    "    maskone = mask_train[i, :]\n",
    "    done = cal_timestep(time, maskone)\n",
    "    deltaT_forward[i, :] = done"
   ]
  },
  {
   "cell_type": "code",
   "execution_count": 158,
   "metadata": {},
   "outputs": [
    {
     "name": "stderr",
     "output_type": "stream",
     "text": [
      "100%|██████████| 4109071/4109071 [01:24<00:00, 48574.11it/s]\n"
     ]
    }
   ],
   "source": [
    "deltaT_backward = np.zeros((len(index_for_train), 46))\n",
    "for i in tqdm(range(len(index_for_train))):\n",
    "    maskone = mask_train[i, :]\n",
    "    maskone = maskone[::-1]\n",
    "    done = cal_timestep(time, maskone)\n",
    "    deltaT_backward[i, :] = done"
   ]
  },
  {
   "cell_type": "code",
   "execution_count": 159,
   "metadata": {},
   "outputs": [
    {
     "data": {
      "text/plain": [
       "array([ 0.,  8., 16., 24.,  8.,  8.,  8.,  8., 16., 24., 32.,  8.,  8.,\n",
       "       16.,  8., 16.,  8.,  8.,  8., 16., 24.,  8.,  8.,  8., 16., 24.,\n",
       "       32., 40., 48.,  8.,  8., 16.,  8.,  8., 16., 24.,  8.,  8.,  8.,\n",
       "        8., 16.,  8.,  8., 16., 24.,  8.])"
      ]
     },
     "execution_count": 159,
     "metadata": {},
     "output_type": "execute_result"
    }
   ],
   "source": [
    "deltaT_backward[0]"
   ]
  },
  {
   "cell_type": "code",
   "execution_count": 160,
   "metadata": {},
   "outputs": [
    {
     "data": {
      "text/plain": [
       "array([ 0.,  8.,  8., 16., 24.,  8.,  8., 16.,  8.,  8.,  8.,  8., 16.,\n",
       "       24.,  8.,  8., 16.,  8.,  8., 16., 24., 32., 40., 48.,  8.,  8.,\n",
       "        8., 16., 24.,  8.,  8.,  8., 16.,  8., 16.,  8.,  8., 16., 24.,\n",
       "       32.,  8.,  8.,  8.,  8., 16., 24.])"
      ]
     },
     "execution_count": 160,
     "metadata": {},
     "output_type": "execute_result"
    }
   ],
   "source": [
    "deltaT_forward[0]"
   ]
  },
  {
   "cell_type": "code",
   "execution_count": 161,
   "metadata": {},
   "outputs": [
    {
     "data": {
      "text/plain": [
       "array([1, 1, 0, 0, 1, 1, 0, 1, 1, 1, 1, 0, 0, 1, 1, 0, 1, 1, 0, 0, 0, 0,\n",
       "       0, 1, 1, 1, 0, 0, 1, 1, 1, 0, 1, 0, 1, 1, 0, 0, 0, 1, 1, 1, 1, 0,\n",
       "       0, 0])"
      ]
     },
     "execution_count": 161,
     "metadata": {},
     "output_type": "execute_result"
    }
   ],
   "source": [
    "mask_train[0]"
   ]
  },
  {
   "cell_type": "code",
   "execution_count": 162,
   "metadata": {},
   "outputs": [
    {
     "name": "stdout",
     "output_type": "stream",
     "text": [
      "Generate time interval for SAR data: \n"
     ]
    },
    {
     "name": "stderr",
     "output_type": "stream",
     "text": [
      "100%|██████████| 4109071/4109071 [01:11<00:00, 57186.65it/s]\n"
     ]
    }
   ],
   "source": [
    "print('Generate time interval for SAR data: ')\n",
    "deltaTt = np.zeros((len(index_for_train), 46))\n",
    "for i in tqdm(range(len(index_for_train))):\n",
    "    maskone = np.ones(46)\n",
    "    maskone = np.int_(maskone)\n",
    "    done = cal_timestep(time, maskone)\n",
    "    deltaTt[i, :] = done\n"
   ]
  },
  {
   "cell_type": "code",
   "execution_count": 163,
   "metadata": {},
   "outputs": [
    {
     "data": {
      "text/plain": [
       "array([0., 8., 8., 8., 8., 8., 8., 8., 8., 8., 8., 8., 8., 8., 8., 8., 8.,\n",
       "       8., 8., 8., 8., 8., 8., 8., 8., 8., 8., 8., 8., 8., 8., 8., 8., 8.,\n",
       "       8., 8., 8., 8., 8., 8., 8., 8., 8., 8., 8., 8.])"
      ]
     },
     "execution_count": 163,
     "metadata": {},
     "output_type": "execute_result"
    }
   ],
   "source": [
    "deltaTt[0]"
   ]
  },
  {
   "cell_type": "markdown",
   "metadata": {},
   "source": [
    "make backward input value "
   ]
  },
  {
   "cell_type": "code",
   "execution_count": 164,
   "metadata": {},
   "outputs": [],
   "source": [
    "ndvi_input_backward = ndvi_input[:, ::-1]\n",
    "rvi_input_backward = rvi_input[:, ::-1]\n",
    "vh_input_backward = vh_input[:, ::-1]"
   ]
  },
  {
   "cell_type": "code",
   "execution_count": 165,
   "metadata": {},
   "outputs": [],
   "source": [
    "input_data_backward = np.stack([rvi_input_backward, vh_input_backward, ndvi_input_backward], axis=1)"
   ]
  },
  {
   "cell_type": "code",
   "execution_count": 166,
   "metadata": {},
   "outputs": [
    {
     "data": {
      "text/plain": [
       "(4109071, 3, 46)"
      ]
     },
     "execution_count": 166,
     "metadata": {},
     "output_type": "execute_result"
    }
   ],
   "source": [
    "input_data_backward.shape"
   ]
  },
  {
   "cell_type": "markdown",
   "metadata": {},
   "source": [
    "# Final create dataset"
   ]
  },
  {
   "cell_type": "code",
   "execution_count": 167,
   "metadata": {},
   "outputs": [],
   "source": [
    "n_timesteps = 46"
   ]
  },
  {
   "cell_type": "code",
   "execution_count": 168,
   "metadata": {},
   "outputs": [],
   "source": [
    "traindatasets_valuesF = np.empty((n_timesteps, 3, 0),dtype=np.float16)\n",
    "traindatasets_evalmaskF = np.empty((n_timesteps, 0),dtype=np.int8)\n",
    "traindatasets_maskF = np.empty((n_timesteps, 0),dtype=np.int8)\n",
    "traindatasets_deltaF = np.empty((n_timesteps, 3, 0),dtype=np.float16)\n",
    "traindatasets_deltaBF = np.empty((n_timesteps, 3, 0),dtype=np.float16)"
   ]
  },
  {
   "cell_type": "code",
   "execution_count": 169,
   "metadata": {},
   "outputs": [
    {
     "name": "stdout",
     "output_type": "stream",
     "text": [
      "Generate training datasets: \n"
     ]
    },
    {
     "name": "stderr",
     "output_type": "stream",
     "text": [
      "100%|██████████| 4109071/4109071 [00:04<00:00, 975733.60it/s] \n",
      "100%|██████████| 4109071/4109071 [00:04<00:00, 939456.70it/s]\n",
      "100%|██████████| 4109071/4109071 [00:04<00:00, 931379.23it/s]\n",
      "100%|██████████| 4109071/4109071 [00:04<00:00, 951483.20it/s]\n",
      "100%|██████████| 4109071/4109071 [00:04<00:00, 897186.06it/s]\n",
      "100%|██████████| 4109071/4109071 [00:04<00:00, 881971.89it/s]\n",
      "100%|██████████| 4109071/4109071 [00:04<00:00, 940560.48it/s]\n",
      "100%|██████████| 4109071/4109071 [00:04<00:00, 942008.05it/s]\n",
      "100%|██████████| 4109071/4109071 [00:04<00:00, 879591.00it/s]\n",
      "100%|██████████| 4109071/4109071 [00:04<00:00, 903430.26it/s]\n",
      "100%|██████████| 4109071/4109071 [00:04<00:00, 947820.13it/s]\n",
      "100%|██████████| 4109071/4109071 [00:04<00:00, 959944.51it/s]\n",
      "100%|██████████| 4109071/4109071 [00:04<00:00, 960379.61it/s]\n",
      "100%|██████████| 4109071/4109071 [00:04<00:00, 949315.66it/s]\n",
      "100%|██████████| 4109071/4109071 [00:04<00:00, 977421.25it/s] \n",
      "100%|██████████| 4109071/4109071 [00:04<00:00, 853244.61it/s]\n",
      "100%|██████████| 4109071/4109071 [00:04<00:00, 874782.51it/s]\n",
      "100%|██████████| 4109071/4109071 [00:04<00:00, 900763.75it/s]\n",
      "100%|██████████| 4109071/4109071 [00:04<00:00, 901056.01it/s]\n",
      "100%|██████████| 4109071/4109071 [00:04<00:00, 913673.56it/s]\n",
      "100%|██████████| 4109071/4109071 [00:04<00:00, 893191.37it/s]\n",
      "100%|██████████| 4109071/4109071 [00:04<00:00, 875015.50it/s]\n",
      "100%|██████████| 4109071/4109071 [00:04<00:00, 899275.30it/s]\n",
      "100%|██████████| 4109071/4109071 [00:04<00:00, 895419.62it/s]\n",
      "100%|██████████| 4109071/4109071 [00:04<00:00, 908658.55it/s]\n",
      "100%|██████████| 4109071/4109071 [00:04<00:00, 898336.94it/s]\n",
      "100%|██████████| 4109071/4109071 [00:04<00:00, 917337.65it/s]\n",
      "100%|██████████| 4109071/4109071 [00:04<00:00, 903939.92it/s]\n",
      "100%|██████████| 4109071/4109071 [00:04<00:00, 896165.27it/s]\n",
      "100%|██████████| 4109071/4109071 [00:04<00:00, 907217.45it/s]\n",
      "100%|██████████| 4109071/4109071 [00:04<00:00, 882358.41it/s]\n",
      "100%|██████████| 4109071/4109071 [00:04<00:00, 890466.39it/s]\n",
      "100%|██████████| 4109071/4109071 [00:04<00:00, 905841.61it/s]\n",
      "100%|██████████| 4109071/4109071 [00:04<00:00, 911637.84it/s]\n",
      "100%|██████████| 4109071/4109071 [00:04<00:00, 891334.34it/s]\n",
      "100%|██████████| 4109071/4109071 [00:04<00:00, 902254.63it/s]\n",
      "100%|██████████| 4109071/4109071 [00:04<00:00, 915548.19it/s]\n",
      "100%|██████████| 4109071/4109071 [00:04<00:00, 949412.77it/s]\n",
      "100%|██████████| 4109071/4109071 [00:04<00:00, 957590.40it/s] \n",
      "100%|██████████| 4109071/4109071 [00:04<00:00, 931135.33it/s]\n",
      "100%|██████████| 4109071/4109071 [00:04<00:00, 912276.30it/s]\n",
      "100%|██████████| 4109071/4109071 [00:04<00:00, 919105.93it/s]\n",
      "100%|██████████| 4109071/4109071 [00:04<00:00, 976696.35it/s] \n",
      "100%|██████████| 4109071/4109071 [00:04<00:00, 989871.99it/s] \n",
      "100%|██████████| 4109071/4109071 [00:04<00:00, 928027.75it/s]\n",
      "100%|██████████| 4109071/4109071 [00:04<00:00, 895228.92it/s]\n"
     ]
    }
   ],
   "source": [
    "print('Generate training datasets: ')\n",
    "trainingdatasets_values = np.zeros((46,3, len(index_for_train)))\n",
    "for step in range(46):\n",
    "    for series_index in tqdm(range(len(index_for_train))):\n",
    "        trainingdatasets_values[step, 0, series_index] = vh_input[series_index, step]\n",
    "        trainingdatasets_values[step, 1, series_index] = rvi_input[series_index, step]\n",
    "        if np.isnan(ndvi_input[series_index, step]):\n",
    "            trainingdatasets_values[step, 2, series_index] = -100\n",
    "        else:\n",
    "            trainingdatasets_values[step, 2, series_index] = ndvi_input[series_index, step]\n",
    "traindatasets_valuesF = np.concatenate((traindatasets_valuesF, trainingdatasets_values), axis=2)"
   ]
  },
  {
   "cell_type": "code",
   "execution_count": 170,
   "metadata": {},
   "outputs": [
    {
     "name": "stdout",
     "output_type": "stream",
     "text": [
      "Generate evalmask: \n"
     ]
    },
    {
     "name": "stderr",
     "output_type": "stream",
     "text": [
      "100%|██████████| 4109071/4109071 [00:01<00:00, 2841885.29it/s]\n",
      "100%|██████████| 4109071/4109071 [00:01<00:00, 3794423.55it/s]\n",
      "100%|██████████| 4109071/4109071 [00:01<00:00, 3691393.75it/s]\n",
      "100%|██████████| 4109071/4109071 [00:01<00:00, 3832392.16it/s]\n",
      "100%|██████████| 4109071/4109071 [00:01<00:00, 3820645.05it/s]\n",
      "100%|██████████| 4109071/4109071 [00:01<00:00, 3892247.51it/s]\n",
      "100%|██████████| 4109071/4109071 [00:01<00:00, 3840513.66it/s]\n",
      "100%|██████████| 4109071/4109071 [00:01<00:00, 3840537.62it/s]\n",
      "100%|██████████| 4109071/4109071 [00:01<00:00, 3884241.22it/s]\n",
      "100%|██████████| 4109071/4109071 [00:01<00:00, 3818847.77it/s]\n",
      "100%|██████████| 4109071/4109071 [00:01<00:00, 3864498.41it/s]\n",
      "100%|██████████| 4109071/4109071 [00:01<00:00, 3753274.88it/s]\n",
      "100%|██████████| 4109071/4109071 [00:01<00:00, 3848781.38it/s]\n",
      "100%|██████████| 4109071/4109071 [00:01<00:00, 3789389.51it/s]\n",
      "100%|██████████| 4109071/4109071 [00:01<00:00, 3746695.18it/s]\n",
      "100%|██████████| 4109071/4109071 [00:01<00:00, 3867520.63it/s]\n",
      "100%|██████████| 4109071/4109071 [00:01<00:00, 3785202.45it/s]\n",
      "100%|██████████| 4109071/4109071 [00:01<00:00, 3853589.38it/s]\n",
      "100%|██████████| 4109071/4109071 [00:01<00:00, 3725234.46it/s]\n",
      "100%|██████████| 4109071/4109071 [00:01<00:00, 3724502.68it/s]\n",
      "100%|██████████| 4109071/4109071 [00:01<00:00, 3775782.84it/s]\n",
      "100%|██████████| 4109071/4109071 [00:01<00:00, 3794243.95it/s]\n",
      "100%|██████████| 4109071/4109071 [00:01<00:00, 3838865.23it/s]\n",
      "100%|██████████| 4109071/4109071 [00:01<00:00, 3779305.86it/s]\n",
      "100%|██████████| 4109071/4109071 [00:01<00:00, 3749935.64it/s]\n",
      "100%|██████████| 4109071/4109071 [00:01<00:00, 3709599.77it/s]\n",
      "100%|██████████| 4109071/4109071 [00:01<00:00, 3737718.91it/s]\n",
      "100%|██████████| 4109071/4109071 [00:01<00:00, 3847933.25it/s]\n",
      "100%|██████████| 4109071/4109071 [00:01<00:00, 3787403.43it/s]\n",
      "100%|██████████| 4109071/4109071 [00:01<00:00, 3723211.29it/s]\n",
      "100%|██████████| 4109071/4109071 [00:01<00:00, 3676159.64it/s]\n",
      "100%|██████████| 4109071/4109071 [00:01<00:00, 3580643.39it/s]\n",
      "100%|██████████| 4109071/4109071 [00:01<00:00, 3690207.39it/s]\n",
      "100%|██████████| 4109071/4109071 [00:01<00:00, 3718207.88it/s]\n",
      "100%|██████████| 4109071/4109071 [00:01<00:00, 3756100.19it/s]\n",
      "100%|██████████| 4109071/4109071 [00:01<00:00, 3533045.26it/s]\n",
      "100%|██████████| 4109071/4109071 [00:01<00:00, 3745248.37it/s]\n",
      "100%|██████████| 4109071/4109071 [00:01<00:00, 3492069.39it/s]\n",
      "100%|██████████| 4109071/4109071 [00:01<00:00, 3732137.32it/s]\n",
      "100%|██████████| 4109071/4109071 [00:01<00:00, 3556139.82it/s]\n",
      "100%|██████████| 4109071/4109071 [00:01<00:00, 3699003.48it/s]\n",
      "100%|██████████| 4109071/4109071 [00:01<00:00, 3666427.82it/s]\n",
      "100%|██████████| 4109071/4109071 [00:01<00:00, 3796237.20it/s]\n",
      "100%|██████████| 4109071/4109071 [00:01<00:00, 3854965.91it/s]\n",
      "100%|██████████| 4109071/4109071 [00:01<00:00, 3862299.55it/s]\n",
      "100%|██████████| 4109071/4109071 [00:01<00:00, 3753112.23it/s]\n"
     ]
    }
   ],
   "source": [
    "print('Generate evalmask: ')\n",
    "traindatasets_evalmask = np.zeros((46,len(index_for_train)), dtype=np.int8)\n",
    "for step in range(46):\n",
    "    for series_index in tqdm(range(len(index_for_train))):\n",
    "        traindatasets_evalmask[step, series_index] = mask_eval[series_index, step]\n",
    "traindatasets_evalmaskF = np.concatenate((traindatasets_evalmaskF, traindatasets_evalmask), axis=1)"
   ]
  },
  {
   "cell_type": "code",
   "execution_count": 171,
   "metadata": {},
   "outputs": [
    {
     "name": "stdout",
     "output_type": "stream",
     "text": [
      "Generate mask tran: \n"
     ]
    },
    {
     "name": "stderr",
     "output_type": "stream",
     "text": [
      "100%|██████████| 4109071/4109071 [00:01<00:00, 2379094.42it/s]\n",
      "100%|██████████| 4109071/4109071 [00:00<00:00, 4127227.91it/s]\n",
      "100%|██████████| 4109071/4109071 [00:01<00:00, 4105228.38it/s]\n",
      "100%|██████████| 4109071/4109071 [00:00<00:00, 4160900.92it/s]\n",
      "100%|██████████| 4109071/4109071 [00:00<00:00, 4183901.95it/s]\n",
      "100%|██████████| 4109071/4109071 [00:00<00:00, 4228213.50it/s]\n",
      "100%|██████████| 4109071/4109071 [00:00<00:00, 4195774.38it/s]\n",
      "100%|██████████| 4109071/4109071 [00:00<00:00, 4269567.20it/s]\n",
      "100%|██████████| 4109071/4109071 [00:00<00:00, 4160641.76it/s]\n",
      "100%|██████████| 4109071/4109071 [00:01<00:00, 3924649.25it/s]\n",
      "100%|██████████| 4109071/4109071 [00:01<00:00, 3868234.16it/s]\n",
      "100%|██████████| 4109071/4109071 [00:01<00:00, 3904078.01it/s]\n",
      "100%|██████████| 4109071/4109071 [00:01<00:00, 3947969.02it/s]\n",
      "100%|██████████| 4109071/4109071 [00:01<00:00, 3811720.21it/s]\n",
      "100%|██████████| 4109071/4109071 [00:01<00:00, 3801846.26it/s]\n",
      "100%|██████████| 4109071/4109071 [00:01<00:00, 3810776.26it/s]\n",
      "100%|██████████| 4109071/4109071 [00:01<00:00, 3827449.87it/s]\n",
      "100%|██████████| 4109071/4109071 [00:01<00:00, 3863820.91it/s]\n",
      "100%|██████████| 4109071/4109071 [00:01<00:00, 3835764.68it/s]\n",
      "100%|██████████| 4109071/4109071 [00:01<00:00, 3851107.72it/s]\n",
      "100%|██████████| 4109071/4109071 [00:01<00:00, 3870119.95it/s]\n",
      "100%|██████████| 4109071/4109071 [00:01<00:00, 3891384.51it/s]\n",
      "100%|██████████| 4109071/4109071 [00:01<00:00, 3857358.44it/s]\n",
      "100%|██████████| 4109071/4109071 [00:01<00:00, 3788429.93it/s]\n",
      "100%|██████████| 4109071/4109071 [00:01<00:00, 3897233.52it/s]\n",
      "100%|██████████| 4109071/4109071 [00:01<00:00, 3790748.90it/s]\n",
      "100%|██████████| 4109071/4109071 [00:01<00:00, 3863730.82it/s]\n",
      "100%|██████████| 4109071/4109071 [00:01<00:00, 3893518.98it/s]\n",
      "100%|██████████| 4109071/4109071 [00:01<00:00, 3840495.69it/s]\n",
      "100%|██████████| 4109071/4109071 [00:01<00:00, 3776027.71it/s]\n",
      "100%|██████████| 4109071/4109071 [00:01<00:00, 3736617.63it/s]\n",
      "100%|██████████| 4109071/4109071 [00:01<00:00, 3845181.75it/s]\n",
      "100%|██████████| 4109071/4109071 [00:01<00:00, 3827058.92it/s]\n",
      "100%|██████████| 4109071/4109071 [00:01<00:00, 3854931.42it/s]\n",
      "100%|██████████| 4109071/4109071 [00:01<00:00, 3814877.41it/s]\n",
      "100%|██████████| 4109071/4109071 [00:01<00:00, 3854956.43it/s]\n",
      "100%|██████████| 4109071/4109071 [00:01<00:00, 3860543.30it/s]\n",
      "100%|██████████| 4109071/4109071 [00:01<00:00, 3950287.36it/s]\n",
      "100%|██████████| 4109071/4109071 [00:01<00:00, 3898526.77it/s]\n",
      "100%|██████████| 4109071/4109071 [00:01<00:00, 3857805.69it/s]\n",
      "100%|██████████| 4109071/4109071 [00:01<00:00, 3872607.90it/s]\n",
      "100%|██████████| 4109071/4109071 [00:01<00:00, 3846883.70it/s]\n",
      "100%|██████████| 4109071/4109071 [00:01<00:00, 3855134.06it/s]\n",
      "100%|██████████| 4109071/4109071 [00:01<00:00, 3821690.50it/s]\n",
      "100%|██████████| 4109071/4109071 [00:01<00:00, 3826421.66it/s]\n",
      "100%|██████████| 4109071/4109071 [00:01<00:00, 3837378.84it/s]\n"
     ]
    }
   ],
   "source": [
    "print('Generate mask tran: ')\n",
    "traindatasets_mask = np.zeros((46, len(index_for_train)), dtype=np.int8)\n",
    "for step in range(46):\n",
    "    for series_index in tqdm(range(len(index_for_train))):\n",
    "        traindatasets_mask[step, series_index] = mask_train[series_index, step]\n",
    "traindatasets_maskF = np.concatenate((traindatasets_maskF, traindatasets_mask), axis=1)\n",
    "        "
   ]
  },
  {
   "cell_type": "code",
   "execution_count": 172,
   "metadata": {},
   "outputs": [
    {
     "name": "stdout",
     "output_type": "stream",
     "text": [
      "Generate training delta datasets: \n"
     ]
    },
    {
     "name": "stderr",
     "output_type": "stream",
     "text": [
      "100%|██████████| 4109071/4109071 [00:03<00:00, 1292445.26it/s]\n",
      "100%|██████████| 4109071/4109071 [00:03<00:00, 1366498.27it/s]\n",
      "100%|██████████| 4109071/4109071 [00:03<00:00, 1326558.48it/s]\n",
      "100%|██████████| 4109071/4109071 [00:03<00:00, 1336237.13it/s]\n",
      "100%|██████████| 4109071/4109071 [00:03<00:00, 1346991.61it/s]\n",
      "100%|██████████| 4109071/4109071 [00:02<00:00, 1385882.24it/s]\n",
      "100%|██████████| 4109071/4109071 [00:03<00:00, 1339944.07it/s]\n",
      "100%|██████████| 4109071/4109071 [00:03<00:00, 1329060.70it/s]\n",
      "100%|██████████| 4109071/4109071 [00:03<00:00, 1316775.43it/s]\n",
      "100%|██████████| 4109071/4109071 [00:02<00:00, 1388170.91it/s]\n",
      "100%|██████████| 4109071/4109071 [00:03<00:00, 1296548.24it/s]\n",
      "100%|██████████| 4109071/4109071 [00:03<00:00, 1284127.72it/s]\n",
      "100%|██████████| 4109071/4109071 [00:03<00:00, 1310826.39it/s]\n",
      "100%|██████████| 4109071/4109071 [00:03<00:00, 1281082.44it/s]\n",
      "100%|██████████| 4109071/4109071 [00:03<00:00, 1281321.41it/s]\n",
      "100%|██████████| 4109071/4109071 [00:03<00:00, 1273889.58it/s]\n",
      "100%|██████████| 4109071/4109071 [00:03<00:00, 1282369.46it/s]\n",
      "100%|██████████| 4109071/4109071 [00:03<00:00, 1316918.21it/s]\n",
      "100%|██████████| 4109071/4109071 [00:03<00:00, 1310444.56it/s]\n",
      "100%|██████████| 4109071/4109071 [00:03<00:00, 1327143.91it/s]\n",
      "100%|██████████| 4109071/4109071 [00:03<00:00, 1333342.17it/s]\n",
      "100%|██████████| 4109071/4109071 [00:02<00:00, 1453348.37it/s]\n",
      "100%|██████████| 4109071/4109071 [00:02<00:00, 1381182.89it/s]\n",
      "100%|██████████| 4109071/4109071 [00:03<00:00, 1351331.30it/s]\n",
      "100%|██████████| 4109071/4109071 [00:02<00:00, 1444307.24it/s]\n",
      "100%|██████████| 4109071/4109071 [00:03<00:00, 1345398.15it/s]\n",
      "100%|██████████| 4109071/4109071 [00:03<00:00, 1338535.94it/s]\n",
      "100%|██████████| 4109071/4109071 [00:03<00:00, 1310925.10it/s]\n",
      "100%|██████████| 4109071/4109071 [00:03<00:00, 1283088.26it/s]\n",
      "100%|██████████| 4109071/4109071 [00:03<00:00, 1294924.51it/s]\n",
      "100%|██████████| 4109071/4109071 [00:03<00:00, 1262125.18it/s]\n",
      "100%|██████████| 4109071/4109071 [00:03<00:00, 1270086.70it/s]\n",
      "100%|██████████| 4109071/4109071 [00:03<00:00, 1247898.53it/s]\n",
      "100%|██████████| 4109071/4109071 [00:03<00:00, 1253192.42it/s]\n",
      "100%|██████████| 4109071/4109071 [00:03<00:00, 1302599.13it/s]\n",
      "100%|██████████| 4109071/4109071 [00:03<00:00, 1349609.93it/s]\n",
      "100%|██████████| 4109071/4109071 [00:03<00:00, 1335819.02it/s]\n",
      "100%|██████████| 4109071/4109071 [00:03<00:00, 1333726.94it/s]\n",
      "100%|██████████| 4109071/4109071 [00:03<00:00, 1354633.80it/s]\n",
      "100%|██████████| 4109071/4109071 [00:03<00:00, 1333762.96it/s]\n",
      "100%|██████████| 4109071/4109071 [00:03<00:00, 1316014.29it/s]\n",
      "100%|██████████| 4109071/4109071 [00:03<00:00, 1351346.35it/s]\n",
      "100%|██████████| 4109071/4109071 [00:03<00:00, 1340890.56it/s]\n",
      "100%|██████████| 4109071/4109071 [00:03<00:00, 1329950.81it/s]\n",
      "100%|██████████| 4109071/4109071 [00:02<00:00, 1413756.98it/s]\n",
      "100%|██████████| 4109071/4109071 [00:02<00:00, 1428642.01it/s]\n"
     ]
    }
   ],
   "source": [
    "print('Generate training delta datasets: ')\n",
    "traindatasets_delta = np.zeros((46, 3, len(index_for_train)), dtype=np.float16)\n",
    "for step in range(46):\n",
    "    for series_index in tqdm(range(len(index_for_train))):\n",
    "        traindatasets_delta[step, 0, series_index] = deltaTt[series_index, step]\n",
    "        traindatasets_delta[step, 1, series_index] = deltaTt[series_index, step]\n",
    "        traindatasets_delta[step, 2, series_index] = deltaT_forward[series_index, step]\n",
    "traindatasets_deltaF = np.concatenate((traindatasets_deltaF, traindatasets_delta), axis=2)"
   ]
  },
  {
   "cell_type": "code",
   "execution_count": 173,
   "metadata": {},
   "outputs": [
    {
     "name": "stdout",
     "output_type": "stream",
     "text": [
      "Generate training delta dataset backward: \n"
     ]
    },
    {
     "name": "stderr",
     "output_type": "stream",
     "text": [
      "100%|██████████| 4109071/4109071 [00:03<00:00, 1265501.97it/s]\n",
      "100%|██████████| 4109071/4109071 [00:03<00:00, 1318693.54it/s]\n",
      "100%|██████████| 4109071/4109071 [00:03<00:00, 1278649.32it/s]\n",
      "100%|██████████| 4109071/4109071 [00:03<00:00, 1295901.98it/s]\n",
      "100%|██████████| 4109071/4109071 [00:03<00:00, 1272721.49it/s]\n",
      "100%|██████████| 4109071/4109071 [00:03<00:00, 1314726.78it/s]\n",
      "100%|██████████| 4109071/4109071 [00:03<00:00, 1242532.00it/s]\n",
      "100%|██████████| 4109071/4109071 [00:03<00:00, 1234506.73it/s]\n",
      "100%|██████████| 4109071/4109071 [00:03<00:00, 1304437.82it/s]\n",
      "100%|██████████| 4109071/4109071 [00:03<00:00, 1258164.38it/s]\n",
      "100%|██████████| 4109071/4109071 [00:03<00:00, 1331909.07it/s]\n",
      "100%|██████████| 4109071/4109071 [00:03<00:00, 1334613.19it/s]\n",
      "100%|██████████| 4109071/4109071 [00:03<00:00, 1309005.15it/s]\n",
      "100%|██████████| 4109071/4109071 [00:03<00:00, 1347434.12it/s]\n",
      "100%|██████████| 4109071/4109071 [00:03<00:00, 1360200.43it/s]\n",
      "100%|██████████| 4109071/4109071 [00:03<00:00, 1357705.05it/s]\n",
      "100%|██████████| 4109071/4109071 [00:03<00:00, 1358172.72it/s]\n",
      "100%|██████████| 4109071/4109071 [00:03<00:00, 1334741.87it/s]\n",
      "100%|██████████| 4109071/4109071 [00:03<00:00, 1288530.37it/s]\n",
      "100%|██████████| 4109071/4109071 [00:03<00:00, 1303604.79it/s]\n",
      "100%|██████████| 4109071/4109071 [00:03<00:00, 1279524.94it/s]\n",
      "100%|██████████| 4109071/4109071 [00:03<00:00, 1272883.26it/s]\n",
      "100%|██████████| 4109071/4109071 [00:03<00:00, 1331201.28it/s]\n",
      "100%|██████████| 4109071/4109071 [00:03<00:00, 1285910.09it/s]\n",
      "100%|██████████| 4109071/4109071 [00:03<00:00, 1272490.70it/s]\n",
      "100%|██████████| 4109071/4109071 [00:03<00:00, 1262815.99it/s]\n",
      "100%|██████████| 4109071/4109071 [00:03<00:00, 1297400.99it/s]\n",
      "100%|██████████| 4109071/4109071 [00:03<00:00, 1323533.07it/s]\n",
      "100%|██████████| 4109071/4109071 [00:03<00:00, 1318963.90it/s]\n",
      "100%|██████████| 4109071/4109071 [00:03<00:00, 1286641.60it/s]\n",
      "100%|██████████| 4109071/4109071 [00:03<00:00, 1349644.39it/s]\n",
      "100%|██████████| 4109071/4109071 [00:03<00:00, 1342242.60it/s]\n",
      "100%|██████████| 4109071/4109071 [00:02<00:00, 1395150.48it/s]\n",
      "100%|██████████| 4109071/4109071 [00:03<00:00, 1199869.18it/s]\n",
      "100%|██████████| 4109071/4109071 [00:03<00:00, 1286502.53it/s]\n",
      "100%|██████████| 4109071/4109071 [00:03<00:00, 1273812.85it/s]\n",
      "100%|██████████| 4109071/4109071 [00:03<00:00, 1309975.02it/s]\n",
      "100%|██████████| 4109071/4109071 [00:03<00:00, 1314097.15it/s]\n",
      "100%|██████████| 4109071/4109071 [00:03<00:00, 1344986.26it/s]\n",
      "100%|██████████| 4109071/4109071 [00:02<00:00, 1378398.64it/s]\n",
      "100%|██████████| 4109071/4109071 [00:02<00:00, 1375775.14it/s]\n",
      "100%|██████████| 4109071/4109071 [00:02<00:00, 1391956.60it/s]\n",
      "100%|██████████| 4109071/4109071 [00:02<00:00, 1382390.22it/s]\n",
      "100%|██████████| 4109071/4109071 [00:03<00:00, 1355923.78it/s]\n",
      "100%|██████████| 4109071/4109071 [00:02<00:00, 1382456.86it/s]\n",
      "100%|██████████| 4109071/4109071 [00:02<00:00, 1412472.62it/s]\n"
     ]
    }
   ],
   "source": [
    "print('Generate training delta dataset backward: ')\n",
    "traindatasets_delta_backward = np.zeros((46, 3, len(index_for_train)), dtype=np.float16)\n",
    "for step in range(46):\n",
    "    for series_index in tqdm(range(len(index_for_train))):\n",
    "        traindatasets_delta_backward[step, 0, series_index] = deltaTt[series_index, step]\n",
    "        traindatasets_delta_backward[step, 1, series_index] = deltaTt[series_index, step]\n",
    "        traindatasets_delta_backward[step, 2, series_index] = deltaT_backward[series_index, step]\n",
    "traindatasets_deltaBF = np.concatenate((traindatasets_deltaBF, traindatasets_delta_backward), axis=2)"
   ]
  },
  {
   "cell_type": "code",
   "execution_count": 174,
   "metadata": {},
   "outputs": [
    {
     "data": {
      "text/plain": [
       "(46, 3, 4109071)"
      ]
     },
     "execution_count": 174,
     "metadata": {},
     "output_type": "execute_result"
    }
   ],
   "source": [
    "traindatasets_valuesF.shape"
   ]
  },
  {
   "cell_type": "markdown",
   "metadata": {},
   "source": [
    "# Save dataset to json"
   ]
  },
  {
   "cell_type": "code",
   "execution_count": 175,
   "metadata": {},
   "outputs": [],
   "source": [
    "import numpy as np\n",
    "import json\n",
    "from tqdm import tqdm"
   ]
  },
  {
   "cell_type": "code",
   "execution_count": 176,
   "metadata": {},
   "outputs": [],
   "source": [
    "def parse_rec(values, masks, eval_masks, deltas):\n",
    "    rec = []\n",
    "    for i in range(values.shape[0]):\n",
    "        recone = {}\n",
    "        recone['deltas'] = deltas[i, :].tolist()\n",
    "        recone['masks'] = masks[i].astype('int8').tolist()\n",
    "        recone['values'] = values[i, :].astype('float32').tolist()\n",
    "        recone['eval_masks'] = eval_masks[i].astype('int8').tolist()\n",
    "        rec.append(recone)\n",
    "    return rec"
   ]
  },
  {
   "cell_type": "code",
   "execution_count": 177,
   "metadata": {},
   "outputs": [],
   "source": [
    "def parse_idTrain(id_):\n",
    "    values = traindatasets_valuesF[:, :, id_]\n",
    "    masks = traindatasets_maskF[:, id_]\n",
    "    eval_masks = traindatasets_evalmaskF[:, id_]\n",
    "    deltas = traindatasets_deltaF[:, :, id_]\n",
    "    deltasB = traindatasets_deltaBF[:, :, id_]\n",
    "\n",
    "    rec = {}\n",
    "\n",
    "    rec['forward'] = parse_rec(values, masks, eval_masks, deltas)\n",
    "    rec['backward'] = parse_rec(values[::-1], masks[::-1], eval_masks[::-1], deltasB)\n",
    "\n",
    "    rec = json.dumps(rec)\n",
    "    fs.write(rec + '\\n')"
   ]
  },
  {
   "cell_type": "code",
   "execution_count": null,
   "metadata": {},
   "outputs": [
    {
     "name": "stdout",
     "output_type": "stream",
     "text": [
      "Save training dataset as JSON: \n"
     ]
    },
    {
     "name": "stderr",
     "output_type": "stream",
     "text": [
      "100%|██████████| 4109071/4109071 [32:30<00:00, 2107.18it/s] \n"
     ]
    },
    {
     "ename": "",
     "evalue": "",
     "output_type": "error",
     "traceback": [
      "\u001b[1;31mThe Kernel crashed while executing code in the current cell or a previous cell. \n",
      "\u001b[1;31mPlease review the code in the cell(s) to identify a possible cause of the failure. \n",
      "\u001b[1;31mClick <a href='https://aka.ms/vscodeJupyterKernelCrash'>here</a> for more info. \n",
      "\u001b[1;31mView Jupyter <a href='command:jupyter.viewOutput'>log</a> for further details."
     ]
    }
   ],
   "source": [
    "dir = '/mnt/storage/huyekgis/brios/datasets/dataTrain/'\n",
    "fs = open(dir + 'training_data_7_area.json', 'w')\n",
    "all_len = traindatasets_valuesF.shape[2]\n",
    "print('Save training dataset as JSON: ')\n",
    "for id_ in tqdm(range(all_len)):\n",
    "    parse_idTrain(id_)\n",
    "fs.close()"
   ]
  },
  {
   "cell_type": "code",
   "execution_count": 293,
   "metadata": {},
   "outputs": [],
   "source": [
    "test = np.load('/mnt/storage/huyekgis/brios/BRIOS/models/inference_results.npy')"
   ]
  },
  {
   "cell_type": "code",
   "execution_count": 294,
   "metadata": {},
   "outputs": [
    {
     "data": {
      "text/plain": [
       "(115766, 46, 1)"
      ]
     },
     "execution_count": 294,
     "metadata": {},
     "output_type": "execute_result"
    }
   ],
   "source": [
    "test.shape"
   ]
  },
  {
   "cell_type": "code",
   "execution_count": 296,
   "metadata": {},
   "outputs": [
    {
     "data": {
      "text/plain": [
       "array([0.65930408, 0.65930408, 0.22252011, 0.18604651, 0.15833746,\n",
       "       0.17697336, 0.29906541, 0.29906541,        nan, 0.52188939,\n",
       "       0.50244653, 0.48672566,        nan, 0.44658494, 0.44658494,\n",
       "              nan,        nan,        nan, 0.17556411, 0.17203043,\n",
       "       0.21208267, 0.25777203,        nan,        nan,        nan,\n",
       "              nan,        nan,        nan,        nan,        nan,\n",
       "       0.71576226, 0.71576226,        nan,        nan, 0.15349226,\n",
       "       0.19736223, 0.27629232, 0.4451282 , 0.4451282 , 0.59409595,\n",
       "       0.59409595, 0.8870303 , 0.86551636, 0.81895578,        nan,\n",
       "       0.52582669])"
      ]
     },
     "execution_count": 296,
     "metadata": {},
     "output_type": "execute_result"
    }
   ],
   "source": [
    "ndvi_input[0]"
   ]
  },
  {
   "cell_type": "code",
   "execution_count": 295,
   "metadata": {},
   "outputs": [
    {
     "data": {
      "text/plain": [
       "array([[0.6593041 ],\n",
       "       [0.6593041 ],\n",
       "       [0.22252011],\n",
       "       [0.18477003],\n",
       "       [0.18503223],\n",
       "       [0.17697336],\n",
       "       [0.2990654 ],\n",
       "       [0.2990654 ],\n",
       "       [0.34280413],\n",
       "       [0.5218894 ],\n",
       "       [0.50244653],\n",
       "       [0.48672566],\n",
       "       [0.4602966 ],\n",
       "       [0.439548  ],\n",
       "       [0.44658494],\n",
       "       [0.39670745],\n",
       "       [0.30861074],\n",
       "       [0.24151099],\n",
       "       [0.17556411],\n",
       "       [0.17203043],\n",
       "       [0.21208267],\n",
       "       [0.25777203],\n",
       "       [0.35506094],\n",
       "       [0.4134958 ],\n",
       "       [0.42595148],\n",
       "       [0.46073407],\n",
       "       [0.56639826],\n",
       "       [0.65493464],\n",
       "       [0.6906414 ],\n",
       "       [0.6912389 ],\n",
       "       [0.71576226],\n",
       "       [0.71576226],\n",
       "       [0.4202782 ],\n",
       "       [0.16428775],\n",
       "       [0.15349226],\n",
       "       [0.19736223],\n",
       "       [0.27629232],\n",
       "       [0.4451282 ],\n",
       "       [0.4451282 ],\n",
       "       [0.59409595],\n",
       "       [0.59409595],\n",
       "       [0.8870303 ],\n",
       "       [0.7691157 ],\n",
       "       [0.7235755 ],\n",
       "       [0.5624213 ],\n",
       "       [0.5258267 ]], dtype=float32)"
      ]
     },
     "execution_count": 295,
     "metadata": {},
     "output_type": "execute_result"
    }
   ],
   "source": [
    "test[0]"
   ]
  },
  {
   "cell_type": "markdown",
   "metadata": {},
   "source": [
    "Visualize"
   ]
  },
  {
   "cell_type": "code",
   "execution_count": 305,
   "metadata": {},
   "outputs": [
    {
     "data": {
      "text/plain": [
       "<function matplotlib.pyplot.show(close=None, block=None)>"
      ]
     },
     "execution_count": 305,
     "metadata": {},
     "output_type": "execute_result"
    },
    {
     "data": {
      "image/png": "[encoded data removed]",
      "text/plain": [
       "<Figure size 1000x600 with 1 Axes>"
      ]
     },
     "metadata": {},
     "output_type": "display_data"
    }
   ],
   "source": [
    "import matplotlib.pyplot as plt\n",
    "import numpy as np\n",
    "\n",
    "# Vẽ đồ thị\n",
    "plt.figure(figsize=(10, 6))\n",
    "plt.plot(test[6000], label='Predict', color='r', marker='o')\n",
    "plt.plot(ndvi_input[6000], label='Real NDVI', color='g', marker='x')\n",
    "\n",
    "# Thiết lập tiêu đề và nhãn\n",
    "plt.title(\"Comparison of 2 lines\")\n",
    "plt.xlabel(\"Index\")\n",
    "plt.ylabel(\"Value\")\n",
    "\n",
    "# Hiển thị chú thích và đồ thị\n",
    "plt.legend()\n",
    "plt.grid(True)\n",
    "plt.show"
   ]
  },
  {
   "cell_type": "markdown",
   "metadata": {},
   "source": [
    "# Inference "
   ]
  },
  {
   "cell_type": "markdown",
   "metadata": {},
   "source": [
    "Data input contains: \n",
    "- Values: VH, RVI, NDVI (have missing data)\n",
    "- Prepare data\n",
    "- Inference follow by (x,y)"
   ]
  },
  {
   "cell_type": "code",
   "execution_count": null,
   "metadata": {},
   "outputs": [],
   "source": [
    "def Inference():\n",
    "    print('=======')\n",
    "    print('inference....')\n",
    "    print('=======')\n",
    "    \n",
    "    "
   ]
  },
  {
   "cell_type": "code",
   "execution_count": 1,
   "metadata": {},
   "outputs": [],
   "source": [
    "import numpy as np \n",
    "\n",
    "t = np.load('/mnt/storage/huyekgis/brios/BRIOS/models/test.npy')"
   ]
  },
  {
   "cell_type": "code",
   "execution_count": 3,
   "metadata": {},
   "outputs": [
    {
     "data": {
      "text/plain": [
       "(160740, 46, 1)"
      ]
     },
     "execution_count": 3,
     "metadata": {},
     "output_type": "execute_result"
    }
   ],
   "source": [
    "t.shape"
   ]
  },
  {
   "cell_type": "code",
   "execution_count": null,
   "metadata": {},
   "outputs": [],
   "source": []
  }
 ],
 "metadata": {
  "kernelspec": {
   "display_name": "myenv",
   "language": "python",
   "name": "python3"
  },
  "language_info": {
   "codemirror_mode": {
    "name": "ipython",
    "version": 3
   },
   "file_extension": ".py",
   "mimetype": "text/x-python",
   "name": "python",
   "nbconvert_exporter": "python",
   "pygments_lexer": "ipython3",
   "version": "3.10.12"
  }
 },
 "nbformat": 4,
 "nbformat_minor": 2
}
